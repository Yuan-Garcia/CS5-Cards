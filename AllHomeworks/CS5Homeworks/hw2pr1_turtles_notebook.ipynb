{
  "cells": [
    {
      "cell_type": "markdown",
      "metadata": {
        "id": "EafH-zQxEcnr"
      },
      "source": [
        "\n",
        "\n",
        "# Notebooks and Recursion and Turtles!\n",
        "\n",
        "\n",
        "Welcome to Python notebooks! They're ever more ubiquitous:\n",
        "+ They interleave <i>code cells</i> that have Python and\n",
        "+ <i>context cells</i> with descriptions and context.\n",
        "+ This cell is a <i>context cell</i>\n",
        "+ If you double-click on it, you'll be able to see its source, a mix of markup and markdown...\n",
        "\n",
        "### Onward!"
      ]
    },
    {
      "cell_type": "code",
      "execution_count": null,
      "metadata": {
        "colab": {
          "base_uri": "https://localhost:8080/"
        },
        "id": "Ig1xmKQP7ait",
        "outputId": "e6a566f8-89c8-4123-9197-fd341cf8cb1f"
      },
      "outputs": [
        {
          "name": "stdout",
          "output_type": "stream",
          "text": [
            "Hello from Colab!\n",
            "\n",
            "The answer is  42.0\n"
          ]
        }
      ],
      "source": [
        "#\n",
        "# This is a code cell - here, you're able to run arbitrary Python scripts.\n",
        "#\n",
        "\n",
        "# For example, try running this four-fours example:\n",
        "\n",
        "from math import *\n",
        "\n",
        "print(\"Hello from Colab!\")\n",
        "print()\n",
        "print(\"The answer is \", factorial(4)+factorial(4)-4-sqrt(4) )"
      ]
    },
    {
      "cell_type": "markdown",
      "metadata": {
        "id": "lUABUfml1I-x"
      },
      "source": [
        "\n",
        "### <font color=\"DodgerBlue\"><b>Make your own copy of this notebook</b></font>\n",
        "+ Under the <i>File</i> menu in the upper left, choose <i><u>Save a copy in Drive</u></i> to create your own copy\n",
        "+ That copy you'll be able to edit, run, and save\n",
        "+ <b><i>Later on</i></b>, when you're ready to submit, you should\n",
        "  + Choose <i><u>File - Download - Download <tt>.ipynb</tt></u></i>, which is near the bottom of the <i>File</i> menu\n",
        "  + That will save the file to your machine with the extension <tt>.ipynb</tt>\n",
        "  + Then, you'll submit that file to the usual GradeScope site, at the appropriate spot.\n",
        "\n",
        "<br>\n",
        "\n",
        "Onward, to turtle!\n"
      ]
    },
    {
      "cell_type": "markdown",
      "metadata": {
        "id": "KtcS8v2_1e-7"
      },
      "source": [
        "# <font color=\"DodgerBlue\"><b>Turtle Scripting </b></font>\n",
        "\n",
        "Start by running the code boxes below to install our turtle library, named <tt>ColabTurtlePlus</tt>:\n",
        "\n",
        "<!--\n",
        "The line `t.initializeTurtle()` creates a turtle graphic terminal? box? if you haven't created one, and erases/refreshes the turtle graphic if you already have one.\n",
        "-->"
      ]
    },
    {
      "cell_type": "code",
      "execution_count": null,
      "metadata": {
        "colab": {
          "base_uri": "https://localhost:8080/"
        },
        "id": "ccYZMirB5ZxD",
        "outputId": "0e6e56f8-a50d-403f-975b-abfe54c9ee0b"
      },
      "outputs": [
        {
          "name": "stdout",
          "output_type": "stream",
          "text": [
            "Collecting ColabTurtlePlus\n",
            "  Downloading ColabTurtlePlus-2.0.1-py3-none-any.whl (31 kB)\n",
            "Installing collected packages: ColabTurtlePlus\n",
            "Successfully installed ColabTurtlePlus-2.0.1\n"
          ]
        }
      ],
      "source": [
        "!pip install ColabTurtlePlus"
      ]
    },
    {
      "cell_type": "code",
      "execution_count": null,
      "metadata": {
        "colab": {
          "base_uri": "https://localhost:8080/"
        },
        "id": "ZldMkZqQEm9O",
        "outputId": "2ce5ec91-b5ec-4656-c2f6-49e486555d5e"
      },
      "outputs": [
        {
          "name": "stdout",
          "output_type": "stream",
          "text": [
            "Put clearscreen() as the first line in a cell (after the import command) to re-run turtle commands in the cell\n"
          ]
        }
      ],
      "source": [
        "import ColabTurtlePlus.Turtle as t\n",
        "\n",
        "# after installing, run this cell...\n",
        "# if it works, you may see a message -- and you should be set!"
      ]
    },
    {
      "cell_type": "markdown",
      "metadata": {
        "id": "MAALe3_424CH"
      },
      "source": [
        "### Next, try an example turtle-drawing script:\n",
        "\n",
        "- <font size = \"-1\"> Note:   A script usually describes code that's <i>not</i> organized into a function:"
      ]
    },
    {
      "cell_type": "code",
      "execution_count": null,
      "metadata": {
        "id": "38lmk3NC2pOs"
      },
      "outputs": [],
      "source": [
        "import ColabTurtlePlus.Turtle as t\n",
        "\n",
        "t.clearscreen()      # it's good to start every cell with this\n",
        "t.setup(500,500)     # setup the drawing area to be 500 pixels x 500 pixels\n",
        "t.showborder()       # show the border of the drawing area\n",
        "t.bgcolor(\"AliceBlue\") # sets the background color (could also use \"#E0E0FF\" on the Mac)\n",
        "\n",
        "t.shape('turtle2') # Options: ['turtle', 'ring', 'classic', 'arrow', 'square', 'triangle', 'circle', 'turtle2', 'blank']\n",
        "\n",
        "t.speed(5)         # 10 is fastest, 1 is slowest\n",
        "\n",
        "# side one\n",
        "t.color(\"green\")   # a link below shares _all_ the colors\n",
        "t.width(5)         # number of pixels wide for the turtle's trail\n",
        "t.forward(100)     # forward 100 pixels\n",
        "t.left(90)         # left 90 degrees\n",
        "\n",
        "# side two\n",
        "t.color(\"DodgerBlue\")    # hometeam?!\n",
        "t.width(2)\n",
        "t.forward(100)\n",
        "t.left(90)\n",
        "\n",
        "# side three\n",
        "t.penup()          # \"lift\" the pen - the turtle will not draw\n",
        "t.forward(100)\n",
        "t.left(90)\n",
        "t.pendown()        # put the pen back \"down\": drawing will resume\n",
        "\n",
        "# side four\n",
        "t.color(\"purple\")\n",
        "t.forward(100)\n",
        "t.left(135)        # to aim \"northeast\"\n",
        "t.penup()\n",
        "from math import sqrt\n",
        "t.forward(50*sqrt(2))   # move to the \"middle\": 50*sqrt(2)\n",
        "t.color(\"green\")"
      ]
    },
    {
      "cell_type": "markdown",
      "metadata": {
        "id": "0FgRysh53FmK"
      },
      "source": [
        "#### <font color = \"blue\"> **Turtle Task #1:    *Drawing practice!***\n",
        "\n",
        "For the first task, play around a bit by copying the\n",
        "Turtle script above to the cell below.\n",
        "\n",
        "The, <i>change</i> it so that:\n",
        "+ You draw a _different_ set of lines -- with at least ***5*** lines, in this case...\n",
        "+ Don't take overmuch time on this - Turtle-drawing can be addicting!\n",
        "+ If you want to \"teleport\" to coordinates `(42,42)` you can do so with `t.goto(42,42)`\n",
        "+ Also, experiment with different colors:\n",
        "\n",
        "**Colors**\n",
        "+ [This page](https://www.w3schools.com/colors/colors_names.asp) shows the colornames available on all browsers.\n",
        "+ You can change the background with  `bgcolor(\"darkblue\")` or, perhaps, other colors!\n",
        "\n",
        "Leave your drawing in the notebook (we look forward to seeing _all_ of the drawings!)\n",
        "\n",
        "Onward to **functioning** with Turtles...\n",
        "\n"
      ]
    },
    {
      "cell_type": "code",
      "execution_count": null,
      "metadata": {
        "id": "mlHvMa3TCV6E"
      },
      "outputs": [],
      "source": [
        "# Here is a Colab cell for your \"Polygon practice\"\n",
        "#\n",
        "#      (feel free to copy-paste-adapt, from above)\n",
        "\n",
        "import ColabTurtlePlus.Turtle as t\n",
        "from ColabTurtlePlus.Turtle import *\n",
        "\n",
        "clearscreen()      # it's good to start every cell with this\n",
        "setup(500,500)     # setup the drawing area to be 500 pixels x 500 pixels\n",
        "showborder()       # show the border of the drawing area\n",
        "bgcolor(\"AliceBlue\") # sets the background color (could also use \"#F0F8FF\")\n",
        "\n",
        "t.shape('turtle2') # Options: ['turtle', 'ring', 'classic', 'arrow', 'square', 'triangle', 'circle', 'turtle2', 'blank']\n",
        "\n",
        "t.speed(5)         # 10 is fastest, 1 is slowest\n",
        "\n",
        "# side one\n",
        "t.color(\"green\")   # a link below shares _all_ the colors\n",
        "t.width(5)         # number of pixels wide for the turtle's trail\n",
        "t.forward(100)     # forward 100 pixels\n",
        "t.left(90)         # left 90 degrees"
      ]
    },
    {
      "cell_type": "markdown",
      "metadata": {
        "id": "-LbLya3h7xdY"
      },
      "source": [
        "## <font color=\"#f96d7b\"><b>Turtle <i>Functioning</i> </b></font>\n",
        "\n",
        "Below is the recursive <tt>tri</tt> function from class...\n",
        "\n",
        "- First, look over the code.\n",
        "- Then, run it and - we hope - it will draw a triangle.\n",
        "- Notice the call to `tri(3)` at the bottom. That's the \"function call\" that runs our function, `tri`"
      ]
    },
    {
      "cell_type": "code",
      "execution_count": null,
      "metadata": {
        "id": "Ffp6015lD5ro"
      },
      "outputs": [],
      "source": [
        "import ColabTurtlePlus.Turtle as t\n",
        "\n",
        "t.clearscreen()      # it's good to start every cell with this\n",
        "t.setup(500,500)     # setup the drawing area to be 500 pixels x 500 pixels\n",
        "t.showborder()       # show the border of the drawing area\n",
        "\n",
        "t.bgcolor(\"AliceBlue\")   # adjust to your preferences!\n",
        "t.shape(\"turtle2\")\n",
        "t.speed(10)\n",
        "t.width(2)\n",
        "\n",
        "#\n",
        "# our tri function\n",
        "#\n",
        "def tri(n):\n",
        "    \"\"\"Draws n 100-pixel sides of an equilateral triangle.\n",
        "      Note that n doesn't have to be 3 (!)\n",
        "    \"\"\"\n",
        "    if n == 0:\n",
        "        return      # No sides to draw, so stop drawing\n",
        "    else:\n",
        "        t.forward(100)\n",
        "        t.left(120)\n",
        "        tri(n-1)    # Recur to draw the rest of the sides!\n",
        "\n",
        "#\n",
        "# here, run tri(3)\n",
        "#\n",
        "tri(3)\n"
      ]
    },
    {
      "cell_type": "markdown",
      "metadata": {
        "id": "Z5-yS_AK8MdP"
      },
      "source": [
        "Consider the code's pieces:\n",
        "\n",
        "+ First, we setup the Turtle's canvas (adjust to suit!)\n",
        "+ Then we define the `tri` function, and finally\n",
        "+ we call it at the bottom with `tri(3)`\n",
        "\n",
        "\n",
        "You'll notice that the internal turtle-drawing calls all begin with \"`t.`\" i.e., \"`t`\" followed by a dot. That is because the underlying code creates a variable named `t` known as <i>an object</i> and then it makes changes to that object, and that object makes changes to the drawing canvas.\n",
        "+ Not worth worrying about! Just a placeholder. Later in the semester, you will use, create, and design <i>objects</i> in much more depth.\n",
        "\n",
        "When run, the above code should create a graphic that looks similar to this:\n",
        "\n",
        "<img src = \"https://www.cs.hmc.edu/twiki/pub/CS5Fall2022/Lab2Turtle/tri_3.png\" height=\"100px\">\n",
        "\n",
        "Stop for a moment and ask yourself how `tri` actually works:\n",
        "+ In particular, `tri` only draws one line: `t.forward(100)`\n",
        "+ How does it draw a complete triangle?\n",
        "+ Why do we have `tri(n-1)`?\n",
        "\n",
        "Note that the base case (or empty case) returns - without actually returning any value. This is because the function does not produce a value - instead, it simply changes pixels on the screen!\n",
        "\n",
        "In this code, we are calling `tri` for its <i>side effects,</i> which are changes to the world that aren't part of any return value. In this case, the side effects are graphics on your screen.\n",
        "\n"
      ]
    },
    {
      "cell_type": "markdown",
      "metadata": {
        "id": "YuZElPxp_o1V"
      },
      "source": [
        "## <font color=\"#f96d7b\"><b>`Tri`-ing fills, options, and colors! </b></font>\n",
        "\n",
        "Now, change the above `tri`-ing function, using a fill:\n",
        "\n",
        "To fill any shape, you can wrap it in `t.begin_fill()`, followed by the function that creates the shape, followed by `t.end_fill()`.\n",
        "+ For the triangle, try altering the bottom part of the cell to read:\n",
        "```\n",
        "t.fillcolor('blue')\n",
        "t.begin_fill()\n",
        "tri(3)\n",
        "t.end_fill()\n",
        "```\n",
        "+ Then, change the fill color!\n",
        "\n",
        "<hr>\n",
        "\n",
        "Next, change your `tri` function and re-running it in order to try at least one out of the many turtle options:\n",
        "\n",
        "+ (_Line thickness_)   Put the line    `t.width(10)`    as the first overall line of the `tri` <i>function</i>.\n",
        "   - ***Or*** put the line    `t.width(3*n+1)`    as the first line of the `else` block in the `tri` function!\n",
        "+ (_Colorfulness_)   Put the line    `t.color('darkgreen')`    as the first line of the function.\n",
        "   - Or `import random` near the top of the code box and put the two lines:\n",
        "        ```\n",
        "        clr = random.choice(['darkgreen', 'red', 'blue'])\n",
        "        t.color(clr)\n",
        "        ```\n",
        "   as the first lines of the function.\n",
        "+ (_Other Python turtle-drawing commands_)   Put the line `t.dot(10, 'yellow')` as the first line of the `else` block.\n",
        "   - This should draw a filled circle (a dot) just before it runs the other lines of the `else` block.\n",
        "   - Note that you can make the dot a different color than the line color by including the color as the second argument to `dot`.\n",
        "\n",
        "<br>\n",
        "\n",
        "<font size=\"-2\">Here is [the documentation for the ColabTurtlePlus library.](https://larryriddle.agnesscott.org/ColabTurtlePlus/documentation2.html) and [the documentation for the Python turtle library.](https://docs.python.org/3/library/turtle.html). No need to reference these - here just in case.</font>\n",
        "\n",
        "\n",
        "\n",
        "\n",
        "\n",
        "\n"
      ]
    },
    {
      "cell_type": "markdown",
      "metadata": {
        "id": "wKatZHgFjH4x"
      },
      "source": [
        "## <font color = \"blue\"> <b>Turtle Task #2:    <i>Spiraling</i></b>\n",
        "\n",
        "We look forward to seeing your final `tri` !\n",
        "\n",
        "Does turtle have you <i>spiraling</i> yet? That's next:"
      ]
    },
    {
      "cell_type": "markdown",
      "metadata": {
        "id": "XZnJWoxWkHc2"
      },
      "source": [
        "## <font color=\"#f96d7b\"><b>The `spiral` function </b> <font size = \"-1\"> [10 points]</font>\n",
        "\n",
        "Next, you'll build another <i>single-path</i> recursive function, named `spiral`. It will be similar to `tri`.\n",
        "\n",
        "First, a picture from the call `spiral(100, 90, 0.9)`:\n",
        "\n",
        "<img src = \"https://www.cs.hmc.edu/twiki/pub/CS5Fall2022/Lab2Turtle/spiral_90.png\">\n",
        "\n",
        "The idea is to write `spiral(initialLength, angle, multiplier)`\n",
        "+ `initialLength` is the length of the first \"spiral leg\"\n",
        "+ `angle` is the amount the turtle turns after each leg\n",
        "+ `multiplier` is the multiplier used, with each spiral-leg!\n",
        "\n",
        "Take a look:\n",
        "+ It won't run as-is...\n",
        "+ See if you can fill in lines 22-24\n",
        "+ Then, run it by uncommenting the call to `spiral(100, 90, 0.9)` on line 28"
      ]
    },
    {
      "cell_type": "code",
      "execution_count": null,
      "metadata": {
        "id": "lTgFbs3Ilmtw"
      },
      "outputs": [],
      "source": [
        "import ColabTurtlePlus.Turtle as t\n",
        "\n",
        "t.clearscreen()      # it's good to start every cell with this\n",
        "t.setup(500,500)     # setup the drawing area to be 500 pixels x 500 pixels\n",
        "t.showborder()       # show the border of the drawing area\n",
        "\n",
        "t.bgcolor(\"AliceBlue\")   # adjust to your preferences!\n",
        "t.shape(\"turtle2\")\n",
        "t.speed(10)\n",
        "t.width(2)\n",
        "\n",
        "def spiral(initialLength, angle, multiplier):\n",
        "    \"\"\"Spiral-drawing function.  Arguments:\n",
        "       initialLength = the length of the first leg of the spiral\n",
        "       angle = the angle, in degrees, turned after each spiral's leg\n",
        "       multiplier = the fraction by which each leg of the spiral changes\n",
        "    \"\"\"\n",
        "    if initialLength <= 1 or initialLength > 1000:\n",
        "        return      # No more to draw, this base case stops the recursion\n",
        "    else:\n",
        "        # You will want a call to forward on this line...\n",
        "        # You will want a turn on this line...\n",
        "        # You will want to recurse here! That is, make a new call to spiral:\n",
        "        # use this: spiral( _______________  , ______  , ____ )  # What inputs?!\n",
        "\n",
        "        pass # delete this empty statement later\n",
        "\n",
        "\n",
        "spiral(100, 90, 0.9)   # here, call spiral!\n"
      ]
    },
    {
      "cell_type": "markdown",
      "metadata": {},
      "source": [
        "## <font color=\"#f96d7b\"><b> Break and Explain! </b> <font size = \"-1\"> [10 points]</font>\n",
        "Now using the Code you have produced, without adding things and only deleting them, get a stackoverflow error and then explain why removing that particular portion of code gave you that error (don't be afraid to use LLM's!)"
      ]
    },
    {
      "cell_type": "code",
      "execution_count": null,
      "metadata": {},
      "outputs": [],
      "source": []
    },
    {
      "cell_type": "markdown",
      "metadata": {
        "id": "DQhAcY_KlpAH"
      },
      "source": [
        "### <font color = \"blue\"> **Additional hints/explanation on `spiral`...**\n",
        "\n",
        "It's helpful to take in `spiral`'s self-similarity. Here's an overview and explanation from the slides:\n",
        "\n",
        "\n",
        "<img src = \"https://www.cs.hmc.edu/twiki/pub/CS5/Lab2Turtle/spiralslide.png\" height=\"400px\">\n",
        "\n",
        "\n",
        "\n",
        "The spiral function should use the turtle drawing functions to create a spiral that\n",
        "+ Draws its first segment of length `initialLength`\n",
        "+ then turns `angle` degrees to the left after that segment, then\n",
        "+ calls `spiral` recursively, using `multiplier` to change its first argument - the second and third arguments won't change!\n",
        "\n",
        "**Base cases!**\n",
        "\n",
        "Note that, for your base case, the code checks if the `initialLength` is too big or too small... and then stops.\n",
        "\n",
        "<hr>\n",
        "\n",
        "For fun, you might try these calls.\n",
        "```\n",
        "spiral(100, 90, 0.9)\n",
        "spiral(100, 170, 0.95) # More of a \"star\" than a spiral...\n",
        "spiral(400, 120, 0.8) # A triangular spiral...\n",
        "```\n",
        "\n",
        "Variations welcome!\n",
        "\n",
        "Below is a picture from our version of the call `spiral(300, 170, 0.99)`:\n",
        "\n",
        "<img src = \"https://www.cs.hmc.edu/twiki/pub/CS5Fall2022/Lab2Turtle/spiral_170.png\" height=\"150px\">\n",
        "\n",
        "\n",
        "Create a spiral you like and leave your favorite spiral in the notebook --\n",
        "\n",
        "We look forward to seeing all of the <i>spiraling</i> going on...\n",
        "\n",
        "\n",
        "\n"
      ]
    },
    {
      "cell_type": "markdown",
      "metadata": {
        "id": "chvTfOrEoheL"
      },
      "source": [
        " ## <font color = \"blue\"> <b>Turtle Task #3: <i>Recursive Chai</i></b>  </font>\n",
        "\n",
        "The `tri` and `spiral` examples demonstrate what's called <i><u>single-path</u></i> recursion:\n",
        "+ the recursive calls are made a single time, so that\n",
        "+ there is a single, step-by-step path taken.\n",
        "\n",
        "\n",
        "\n",
        "But for us, the <i>spiral</i> into the depths of recursion has only begun!\n",
        "\n",
        "Next up: <i><b>Branching</b></i> recursion!\n"
      ]
    },
    {
      "cell_type": "markdown",
      "metadata": {
        "id": "A1pc8iIyo7JP"
      },
      "source": [
        "## <font color=\"#f96d7b\"><b>The `chai` function: branching recursion </b> <font size = \"-1\"> [10 points]</font>\n",
        "\n",
        "Now to _branching-recursion_.\n",
        "\n",
        "Branching is when recursion is at its most \"magical.\"\n",
        "\n",
        "As a result, _writing_, branching recursion can feel especially mind-bending!\n",
        "\n",
        "In the end, all of the \"magic's\" tricks are revealed: it's fully understandable. (It does take some getting used to.)\n",
        "\n",
        " Here is a starter code for the `chai` function from class. It's not recursive, yet:"
      ]
    },
    {
      "cell_type": "code",
      "execution_count": null,
      "metadata": {
        "id": "4i16KGnQDc7o"
      },
      "outputs": [],
      "source": [
        "# The chai function\n",
        "\n",
        "import ColabTurtlePlus.Turtle as t\n",
        "\n",
        "t.clearscreen()      # it's good to start every cell with this\n",
        "t.setup(500,500)     # setup the drawing area to be 500 pixels x 500 pixels\n",
        "t.showborder()       # show the border of the drawing area\n",
        "\n",
        "t.bgcolor(\"AliceBlue\")   # adjust to your preferences!\n",
        "t.shape(\"turtle2\")\n",
        "t.speed(10)\n",
        "t.width(2)\n",
        "\n",
        "def chai(size):\n",
        "    \"\"\"Our chai function!\"\"\"\n",
        "    if (size < 5):\n",
        "        return\n",
        "    else:\n",
        "        t.forward(size)\n",
        "        t.left(90)\n",
        "        t.forward(size/2)\n",
        "        t.right(90)\n",
        "\n",
        "        # first you'll recurse here\n",
        "\n",
        "        t.right(90)\n",
        "        t.forward(size)\n",
        "        t.left(90)\n",
        "\n",
        "        # then you'll recurse here, as well!\n",
        "\n",
        "        t.left(90)\n",
        "        t.forward(size/2)\n",
        "        t.right(90)\n",
        "        t.backward(size)\n",
        "        return\n",
        "\n",
        "#\n",
        "# This runs the chai function:\n",
        "#\n",
        "chai(100)"
      ]
    },
    {
      "cell_type": "markdown",
      "metadata": {
        "id": "BEEgtG4jDt12"
      },
      "source": [
        "When you run this code with `chai(100)`, you should see a side-view \"T\"!\n",
        "\n",
        "\n",
        "Take a moment to digest what `chai` draws:\n",
        "+ How is the final \"T\" shape formed? You might act it out, on paper or in person!\n",
        "+ Notice where in the \"T\"  the two hash-tagged `# recurse here` comments in the code, at the \"T\"'s top ends...\n",
        "+ Next, you'll add one recursive branch, then a second:\n",
        "\n",
        "To that end, add one branch of recursion to `chai`:\n",
        "\n",
        "+ First, paste this recursive call: `chai(size/2)` between the two calls to `t.right(90)` (i.e., where the first recursion is called for.\n",
        "\n",
        "Try it out!\n",
        "\n",
        "<hr>\n",
        "\n",
        "<b>Next</b>, add a second branch.\n",
        "\n",
        "+ That is, place a _second_ recursive call to `chai(size/2)` between the two calls to `t.left(90)`\n",
        "\n",
        "It's nothing more than a second branch, __but__ because it's called recursively on _all_ of the subbranches, the resulting work - and visual intricacy - is _much more_ than doubled!\n",
        "\n",
        "Again, try it out!\n",
        "\n",
        "<hr>\n",
        "\n",
        "In the end, branching recursion works by creating a smaller version of the overall structure at <b><i>more than one location</i></b> within that structure.\n",
        "\n",
        "\n",
        "Take a moment again here to analyze the final `chai` function, the branching-recursion one:\n",
        "+ Why does it draw such a complex figure?\n",
        "+ Again, it might help to act it out -- or use paper. You'll see that a _lot_ of bookkeeping is going on! The process is keeping track of where in the recursion it is ... <i>at all times</i>.\n",
        "\n",
        "<br>\n",
        "\n",
        "<font size = \"+1.5\">Key idea: <b>Be sure to end where you began</b>\n",
        "\n",
        "***One key*** to making branching recursion \"work\" is _making sure that your turtle __ends__ at the same __location__ that it begins, and ends up __facing the same direction__._ That ensures the statements after the recursive calls are moving the turtle as expected -- and that the subsequent drawing is \"right on schedule\"!\n",
        "\n",
        "No need to customize `chai` here.\n",
        "\n",
        "Instead, you'll customize it with `svtree`, our <i>side-view tree</i>, next:\n",
        "\n"
      ]
    },
    {
      "cell_type": "markdown",
      "metadata": {
        "id": "hztMWEZUM9-9"
      },
      "source": [
        " ## <font color = \"blue\"> <b>Turtle Task #4: The `svtree` function</b>  </font> <font size = \"-1\"> [10 points]</font>\n",
        "\n",
        "\n",
        "Next, you'll write another branching example: the _side-view_ tree.\n",
        "\n",
        "\"Branching\" seems like a particularly appropriate descriptor in this case!\n",
        "\n",
        "The idea is to create a function that draws the _side view_ of a tree, hence `svtree`. Read over this docstring to get a sense of the two arguments. Then, look over the outline and images below the code:"
      ]
    },
    {
      "cell_type": "code",
      "execution_count": null,
      "metadata": {
        "id": "1FHfXGUENPUG"
      },
      "outputs": [],
      "source": [
        "import ColabTurtlePlus.Turtle as t\n",
        "\n",
        "t.clearscreen()      # it's good to start every cell with this\n",
        "t.setup(500,500)     # setup the drawing area to be 500 pixels x 500 pixels\n",
        "t.showborder()       # show the border of the drawing area\n",
        "\n",
        "t.bgcolor(\"AliceBlue\")   # adjust to your preferences!\n",
        "t.shape(\"turtle2\")\n",
        "t.speed(10)\n",
        "t.width(2)\n",
        "\n",
        "def svtree(trunklength, levels):\n",
        "    \"\"\"svtree: draws a side-view tree\n",
        "       trunklength = the length of the first line drawn (\"the trunk\")\n",
        "       levels = the depth of recursion to which it continues branching\n",
        "    \"\"\"\n",
        "    if levels == 0:\n",
        "        return\n",
        "    else:\n",
        "        # Draw the original trunk (1 line)\n",
        "        # Turn a little bit to position the first subtree (1 line)\n",
        "        # Recurse! with both a smaller trunk and fewer levels (1 line)\n",
        "        # Turn the other way to position the second subtree (1 line)\n",
        "        # Recurse again! (1 line)\n",
        "        # Turn and go BACKWARDS (2 steps: 2 lines)\n",
        "        pass # delete this empty statement later\n",
        "\n",
        "#\n",
        "# setup - move the turtle backward a bit:\n",
        "#\n",
        "t.penup()\n",
        "t.backward(150)\n",
        "t.pendown()\n",
        "\n",
        "# Go!  One example:\n",
        "svtree(50, 2)\n",
        "\n",
        "# try svtree(100,5)\n"
      ]
    },
    {
      "cell_type": "markdown",
      "metadata": {
        "id": "0pQOhwduNYAw"
      },
      "source": [
        "### <font color = \"blue\"> **More on `svtree`...**\n",
        "\n",
        "Before diving in, take a look at two examples and some analysis. First, here is an example of the possible output when `svtree(50, 2)` is run:\n",
        "\n",
        "\n",
        "<img src = \"https://www.cs.hmc.edu/twiki/pub/CS5Fall2022/Lab2Turtle/svtree_2.png\" height=\"142px\">\n",
        "\n",
        "Caution: because the function draws a sideways tree, it can go off the screen really fast. The lines of code at the bottom (`t.penup()` through `t.pendown()`) ensure that that doesn't happen, so make sure that you call svtree _after_ them.\n",
        "\n",
        "Here is an example of the output from our function when `svtree(128, 6)` is run:\n",
        "\n",
        "<img src = \"https://www.cs.hmc.edu/twiki/pub/CS5Fall2022/Lab2Turtle/svtree_6.png\" height=\"200px\">\n",
        "\n",
        "\n",
        "Note that this __really__ is side-view!\n",
        "\n",
        "Also, if `svtree(50, 0)` is run, the result should be no drawing at all. _The base case occurs when `levels` equals 0._\n",
        "\n",
        "<br>\n",
        "\n",
        "<font size = \"+1.5\"> <b> Strategy and analysis </font></b>\n",
        "\n",
        "**Base case:**   for `svtree`, you want to draw nothing (and `return` from `svtree`) when `levels == 0`.\n",
        "\n",
        "**Recursive case:**   We tackle it conceptually.\n",
        "\n",
        "Here is a picture showing the self-similar breakdown of `svtree` (from the Gold slides). This is, in fact, an almost complete map of the svtree code!\n",
        "\n",
        "\n",
        "<img src = \"https://www.cs.hmc.edu/twiki/pub/CS5/Lab2Turtle/svtree.png\" height=\"442px\">\n",
        "\n",
        "\n",
        "The key to happiness with recursive drawing is this: ___the pen must be back at the start (root) of the tree at the end of the function call, and the turtle must be facing in the original direction!___ That way, each portion of the recursion \"takes care of itself\" relative to the other parts of the image. Here are the steps:\n",
        "\n",
        "- Go forward the `trunklength`.\n",
        "- Turn left some amount.\n",
        "- Recur! (call `svtree` with a fraction of the `trunklength` and 1 fewer levels).\n",
        "- Turn right some amount (if you want to be symmetric, turn right by double the amount you turned left).\n",
        "- Recur again! (make the same call to `svtree` with a fraction of the `trunklength` and 1 fewer levels).\n",
        "- _Finish up, part 1_: Turn left so that the turtle is facing its original direction (if your tree is symmetric, the same as the original left turn).\n",
        "- _finish up, part 2_: Go __backward__ the original `trunklength`.\n",
        "\n",
        "<br>\n",
        "\n",
        "**Notes and Hints**\n",
        "\n",
        "- Don't worry about the exact angle of branching...\n",
        "- Don't worry about the exact amount of reduction of the trunklength in sub-branches, etc.\n",
        "- Design your own tree by making aesthetic choices for each of these!\n",
        "\n",
        "Also, calling `t.left(90)` before the code at the bottom will yield a more traditional, skyward, tree pose!\n",
        "\n",
        "\n",
        "\n",
        "\n",
        "\n",
        "\n",
        "\n",
        "\n"
      ]
    },
    {
      "cell_type": "markdown",
      "metadata": {
        "id": "yBoWs_GvPzGP"
      },
      "source": [
        "#### **Try more branches!**\n",
        "\n",
        "Once you have the `svtree` function working, feel free alter it so that it has three or more branches, instead of only two...\n",
        "\n",
        "- You can get some very dense \"foliage\" very quickly.\n",
        "- Even more \"life-like\" results are possible if you use non-identical branching angles and size multipliers.\n",
        "- Also, you could have the `pensize` or `pencolor` depend on the value of `levels`.\n",
        "- If you make the final \"level\" red, you can create an apple tree.\n",
        "   - See the `dot` example from `tri` for other ways to add fruit to a tree...\n",
        "- Or, if you make that final \"level\" a random color, you can produce fall-foliage-type effects..."
      ]
    },
    {
      "cell_type": "markdown",
      "metadata": {
        "id": "I5wCTsO_QN68"
      },
      "source": [
        "## More branches!    \n",
        "\n",
        " As the branching factor increases, things can get __icy__... or, perhaps, numbing:"
      ]
    },
    {
      "cell_type": "markdown",
      "metadata": {
        "id": "kCe2pKeiQt1V"
      },
      "source": [
        "## <font color = \"blue\"> <b>Turtle Task #5: The `flakeside` function </b> <font size = \"-1\"> [10 points]</font>\n",
        "\n",
        "A challenge! The Koch Snowflake is an example of _deeply_ branching recursion.\n",
        "\n",
        "The Koch snowflake is a fractal with three identical sides—it's the sides themselves that are defined recursively, not the set of three of them.\n",
        "\n",
        "Because of this, we provide the overall `snowflake` function for you to use—it's below.\n",
        "\n",
        "For now, you're going to create <tt>flakeside</tt>"
      ]
    },
    {
      "cell_type": "markdown",
      "metadata": {
        "id": "OkAsXbEhRn4-"
      },
      "source": [
        "### <font color = \"blue\"> **Writing the `flakeside` function!**\n",
        "\n",
        "Your task is to implement `flakeside(sidelength, levels)`, which will draw one snowflake side:\n",
        "\n",
        "There is a starter code below. First, here is a graphical summary of a snowflake-side's structure:\n",
        "\n",
        "<img src = \"https://www.cs.hmc.edu/twiki/pub/CS5/Lab2Turtle/flakeside.png\" height=\"542px\">"
      ]
    },
    {
      "cell_type": "code",
      "execution_count": null,
      "metadata": {
        "id": "c5JjE7a5R3EV"
      },
      "outputs": [],
      "source": [
        "import ColabTurtlePlus.Turtle as t\n",
        "\n",
        "t.clearscreen()      # it's good to start every cell with this\n",
        "t.setup(500,500)     # setup the drawing area to be 500 pixels x 500 pixels\n",
        "t.showborder()       # show the border of the drawing area\n",
        "\n",
        "t.bgcolor(\"AliceBlue\")   # adjust to your preferences!\n",
        "t.shape(\"turtle2\")\n",
        "t.speed(10)\n",
        "t.width(2)\n",
        "\n",
        "def flakeside(sidelength, levels):\n",
        "    \"\"\" flakeside draws _one side_ of the fractal Koch snowflake\n",
        "    \"\"\"\n",
        "    # see hints below! This function is _deeply_ recursive!\n",
        "\n",
        "    pass # remove this empty statement later\n",
        "\n",
        "#\n",
        "# try it!\n",
        "#\n",
        "t.penup()\n",
        "t.goto(-200,0)  # move the pen to a \"southwest\" corner...\n",
        "t.pendown()\n",
        "\n",
        "flakeside(300,2)  # try it...\n"
      ]
    },
    {
      "cell_type": "markdown",
      "metadata": {
        "id": "NhV44qPTSrrh"
      },
      "source": [
        "### <font color= \"salmon\"> Hints for  flakeside\n",
        "\n",
        "\n",
        "\n",
        "- A base-case Koch snowflake side is simply a straight line of length `sidelength`!\n",
        "- Other than the base case, you should never draw a line directly. Instead, use a recursive call to `flakeside`.\n",
        "- Each recursive level replaces the _middle third_ of the snowflake's side with a \"bump,\" i.e., two sides that would be part of a one-third-scale equilateral triangle.\n",
        "- Notice there are four _sub-sides_ to each flake side. This means that `flakeside` will call itself recursively ___four times___!\n",
        "- At the three spots _between_ those four calls, there will be an appropriate turn...\n",
        "- Thus, the recursive case will include seven total lines (4 recursions and three turns)."
      ]
    },
    {
      "cell_type": "markdown",
      "metadata": {
        "id": "UYKpOVENTG61"
      },
      "source": [
        "#### **Calls to try...**\n",
        "\n",
        "- Try `flakeside(300, 0)`—make sure you get a straight line\n",
        "- Try `flakeside(300, 1)`—make sure you get a four-segment contour\n",
        "- Try `flakeside(300, 2)`—make sure you get four \"level-1\" flakesides\n",
        "- Try `flakeside(300, 3)`—pretty! and pretty cool! Olaf approves.\n",
        "\n",
        "\n",
        "Remember that `flakeside` is creating ___only one___ of the three sides of the snowflake!\n",
        "\n",
        "- Because of this, it does __not__ have to end in the same location as it begins.\n",
        "- After all, if it did, all three sides of the overall snowflake would be on top of one another."
      ]
    },
    {
      "cell_type": "markdown",
      "metadata": {
        "id": "Tq1S1_iKTg4b"
      },
      "source": [
        "### From `flakeside` to `snowflake`\n",
        "\n",
        "Once your `flakeside` function works, try out `snowflake` (below)!\n",
        "\n",
        "- The `snowflake` function simply calls `flakeside` three times.\n",
        "- Depending on the directions that `flakeside` uses, you may need to change the `left`s in `snowflake` to `right`s.\n",
        "- Examples to try might include `snowflake(300, 2)` and `snowflake(300, 3)`\n",
        "\n",
        "Like `svtree`, if you are having trouble seeing everything you may need to move the turtle at the beginning. Try:\n",
        "```\n",
        "t.penup()\n",
        "t.setposition(x, y)\n",
        "t.pendown()\n",
        "```\n",
        "Put the coordinates you want into `setposition`. Note that `(0, 0)` is the upper left corner.\n",
        "\n",
        "Here are images of four different values of `levels` for a snowflake, `0`, `1`, `2`, and `3`:\n",
        "\n",
        "\n",
        "<img src = \"http://www.cs.hmc.edu/~cs5grad/cs5/koch.png\" height=\"442px\">\n",
        "\n",
        "\n",
        "Consider the following script:\n",
        "```\n",
        "t.penup()\n",
        "t.goto(-200,-100)  # move the pen to a \"southwest\" corner...\n",
        "t.pendown()\n",
        "snowflake(300,2)   # two recursive levels deep!\n",
        "```\n",
        "Here's an in-progress run from this script:\n",
        "\n",
        "<img src = \"https://www.cs.hmc.edu/twiki/pub/CS5Fall2022/Lab2Turtle/snowflake_partial.png\" height=\"442px\">\n",
        "\n",
        "Try it here:\n",
        "\n",
        "\n",
        "\n",
        "\n"
      ]
    },
    {
      "cell_type": "code",
      "execution_count": null,
      "metadata": {
        "id": "PwbAEbdARUGk"
      },
      "outputs": [],
      "source": [
        "import ColabTurtlePlus.Turtle as t\n",
        "\n",
        "t.clearscreen()      # it's good to start every cell with this\n",
        "t.setup(500,500)     # setup the drawing area to be 500 pixels x 500 pixels\n",
        "t.showborder()       # show the border of the drawing area\n",
        "\n",
        "t.bgcolor(\"AliceBlue\")   # adjust to your preferences!\n",
        "t.shape(\"turtle2\")\n",
        "t.speed(10)\n",
        "t.width(2)\n",
        "\n",
        "def snowflake(sidelength, levels):\n",
        "    \"\"\"Fractal snowflake function, complete.\n",
        "       sidelength: pixels in the largest-scale triangle side\n",
        "       levels: the number of recursive levels in each side\n",
        "    \"\"\"\n",
        "    flakeside(sidelength, levels)     # needs to be implemented - see below\n",
        "    t.left(120)\n",
        "    flakeside(sidelength, levels)\n",
        "    t.left(120)\n",
        "    flakeside(sidelength, levels)\n",
        "    t.left(120)\n",
        "\n",
        "\n",
        "# You'll need both the snowflake function (provided) and flakeside, which you will have written:\n",
        "\n",
        "t.penup()\n",
        "t.goto(-200,-100)  # move the pen to a \"southwest\" corner...\n",
        "t.pendown()\n",
        "\n",
        "snowflake(300,2)   # two recursive levels deep!"
      ]
    },
    {
      "cell_type": "markdown",
      "metadata": {
        "id": "ztXw3JL-B1V1"
      },
      "source": [
        "#### More snow!\n",
        "\n",
        "There is lots more about the Koch snowflake and its kin...   \n",
        "\n",
        "Google around and you'll find that branching recursion and fractals are one and the same thing:\n",
        "\n",
        "- [the Koch Snowflake](https://en.wikipedia.org/wiki/Koch_snowflake)\n",
        "- [the Menger Sponge](https://en.wikipedia.org/wiki/Menger_sponge)\n",
        "- [Julia Sets](https://en.wikipedia.org/wiki/Julia_set#/media/File:Julia_set,_plotted_with_Matplotlib.svg)\n",
        "- [space-filling curves](https://en.wikipedia.org/wiki/Space-filling_curve)\n",
        "\n",
        "\n",
        "<br>"
      ]
    },
    {
      "cell_type": "markdown",
      "metadata": {},
      "source": [
        "### Sneak Peek into Week 8!\n",
        "\n",
        "This recursive snowflake falls under a category of beautiful drawings called \"fractals\"\n",
        "\n",
        "Now change this fractal to personalize it and make it uniquely you! Then write out in the cell below what coding this might look like!\n",
        "\n",
        "\n"
      ]
    },
    {
      "cell_type": "markdown",
      "metadata": {},
      "source": []
    },
    {
      "cell_type": "markdown",
      "metadata": {},
      "source": [
        "Now (along with your LLM copilot), code it!"
      ]
    },
    {
      "cell_type": "code",
      "execution_count": null,
      "metadata": {},
      "outputs": [],
      "source": []
    },
    {
      "cell_type": "markdown",
      "metadata": {
        "id": "7OtpwkwL1Uao"
      },
      "source": [
        "# <font color = \"dodgerblue\"> **Submitting...**\n",
        "\n",
        "To submit,\n",
        "+ first, download your <tt>.ipynb</tt> notebook - with your turtle images present\n",
        "+ then upload the resulting file to GradeScope\n",
        "\n",
        "You're set!\n",
        "\n",
        "<br>\n",
        "\n",
        "If you're in the mood for more turtle (or have homework in other courses to procrastinate...), read on!\n",
        "\n"
      ]
    },
    {
      "cell_type": "markdown",
      "metadata": {
        "id": "m_n0JcwaaqVC"
      },
      "source": [
        "### More turtle?\n",
        "\n",
        "<b>Extra credit options</b>\n",
        "\n",
        "If you enjoy creating turtle graphics, whether recursive or not, you're invited to try more!\n",
        "\n",
        "+ For extra-credit of up to +8.42 points, include additional cell(s) with your own custom-designed turtle creations...  (and the code used to create them)\n",
        "  + This is your \"turtle-graphics portfolio\"!\n",
        "+ In fact, you may already have a portfolio! If you've already created a work you like, you can always copy the code to a new cell and then continue working/developing from there. It's completely OK if it was accidental!\n",
        "+ Feel free to build something new, whether by designed or <i>unencumbered by strategic assembly</i> ...\n",
        "+ Since lab does usually have as much e.c., if you do create additional turtle-artwork, please submit you under this week's e.c. problem, <tt>hw2pr5</tt>\n",
        "\n",
        "\n",
        "The grutors - and we - look forward to your turtle-visions!\n",
        "\n",
        "<br>\n",
        "\n",
        "<i>Happy turtling!</i>\n"
      ]
    },
    {
      "cell_type": "code",
      "execution_count": null,
      "metadata": {
        "id": "NDBKSska90kK"
      },
      "outputs": [],
      "source": [
        "# run this cell to create a good-job-for-finishing star 🤩\n",
        "\n",
        "t.clearscreen()      # it's good to start every cell with this\n",
        "t.setup(500,500)     # setup the drawing area to be 500 pixels x 500 pixels\n",
        "t.showborder()       # show the border of the drawing area\n",
        "\n",
        "t.bgcolor(\"AliceBlue\")   # adjust to your preferences!\n",
        "t.shape(\"turtle2\")\n",
        "t.speed(10)\n",
        "t.width(2)\n",
        "\n",
        "def star(n):\n",
        "    \"\"\" draws a star!\n",
        "        call with star(5)\n",
        "    \"\"\"\n",
        "    if n == 0:\n",
        "        return\n",
        "    else:\n",
        "        t.forward(100)\n",
        "        t.right(144)\n",
        "        star(n-1)\n",
        "\n",
        "t.fillcolor(\"gold\")\n",
        "t.begin_fill()\n",
        "star(5)\n",
        "t.end_fill()\n",
        "\n",
        "t.penup()\n",
        "t.backward(100)\n",
        "t.pendown()"
      ]
    }
  ],
  "metadata": {
    "colab": {
      "provenance": []
    },
    "kernelspec": {
      "display_name": "Python 3",
      "name": "python3"
    },
    "language_info": {
      "name": "python"
    }
  },
  "nbformat": 4,
  "nbformat_minor": 0
}
