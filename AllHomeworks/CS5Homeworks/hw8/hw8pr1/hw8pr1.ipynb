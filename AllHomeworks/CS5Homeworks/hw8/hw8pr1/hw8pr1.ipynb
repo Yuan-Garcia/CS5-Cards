{
 "cells": [
  {
   "cell_type": "markdown",
   "metadata": {},
   "source": [
    "+ hw8pr1.ipynb\n",
    "+ Lab 8\n",
    "+ <span style=\"color:red\"> **_the use of LLM is NOT allowed on this assignment until the last part (instructions will specificy when LLM is allowed)_**</span>\n",
    "+ <span style=\"color:red\">Typing your name below means you've read and acknowledged the statement above </span>\n",
    "+ Name: \n",
    "\n",
    "# <span style=\"color:violet\"> Problem 8: Creating the Mandelbrot Set </span>\n",
    "+ use loops and enxted loops to solve *complex* problems \n",
    "+ develop a program using *incremental design* <-- starting with a simple task and gradually adding levels of complexity\n",
    "+ connect with mathematics and other disciplines that use fractal modeling"
   ]
  },
  {
   "cell_type": "code",
   "execution_count": 1,
   "metadata": {},
   "outputs": [],
   "source": [
    "from cs5png3 import *"
   ]
  },
  {
   "cell_type": "code",
   "execution_count": 12,
   "metadata": {},
   "outputs": [
    {
     "name": "stdout",
     "output_type": "stream",
     "text": [
      "Starting to save test.png...test.png saved.\n"
     ]
    }
   ],
   "source": [
    "#\n",
    "# A test function...\n",
    "#\n",
    "def test_fun():\n",
    "    \"\"\"Algorithmic image creation, one pixel at a time.\n",
    "       This is a test function: it should create\n",
    "       an image named test.png in the current directory.\n",
    "    \"\"\"\n",
    "    im = PNGImage(300, 200)  # Creates an image of width 300, height 200\n",
    "\n",
    "    # Nested loops!\n",
    "    for r in range(200):     # loops over the rows with runner variable r\n",
    "        for c in range(300): # loops over the columns with c\n",
    "            if  c == r:   \n",
    "                im.plotPoint(c, r, (255, 0, 0))\n",
    "            #else:\n",
    "            #    im.plotPoint(c, r, (255, 0, 0))\n",
    "                \n",
    "    im.saveFile()\n",
    "\n",
    "test_fun()"
   ]
  },
  {
   "cell_type": "markdown",
   "metadata": {},
   "source": [
    "#### Now for your Lab 8 functions: \n",
    "+ Start with some re-introduction to looping\n",
    "+ Write a function <span style=\"color:green\"> mult(c, n) </span> that returns the product c times n, but without multiplication. \n",
    "    + the starting value <span style=\"color:green\"> result </span> should start at 0 and repeatedly add the value of c to that <span style=\"color:green\"> result </span>. A for loop should be used.\n",
    "    + After the loop finishes, it should return the result, both conceptually and literally with a print statement."
   ]
  },
  {
   "cell_type": "code",
   "execution_count": null,
   "metadata": {},
   "outputs": [],
   "source": [
    "def mult(c, n):\n",
    "    \"\"\"\n",
    "        docstring here\n",
    "    \"\"\"\n",
    "    # write your function here\n",
    "\n",
    "ans = mult(105, 3)\n",
    "print(f\"mult(105,3) should be 315 and is {ans}\")"
   ]
  },
  {
   "cell_type": "markdown",
   "metadata": {},
   "source": [
    "The next function will build the basic Mandelbrot update step which is: z = z**2 +c for some constant c\n",
    "+ write a function named <span style=\"color:green\"> update(c, n) </span> that starts with a new value, <span style=\"color:green\"> z </span>, at zero\n",
    "+ the function should repeatedly update the value of <span style=\"color:green\"> z </span> using z = z**2 + c for a total of n times.\n",
    "+ in the end, the function should return the final value of <span style=\"color:green\"> z </span>, n will be a positive integer\n",
    "\n",
    "Example cases:\n",
    "+ update(1,3) returns 4\n",
    "+ update(-1,3) returns -1\n",
    "+ update(-1, 10) returns 0"
   ]
  },
  {
   "cell_type": "code",
   "execution_count": null,
   "metadata": {},
   "outputs": [],
   "source": [
    "def update(c, n):\n",
    "    \"\"\"\n",
    "        docstring here\n",
    "    \"\"\"\n",
    "    # write your function here"
   ]
  },
  {
   "cell_type": "markdown",
   "metadata": {},
   "source": [
    "## Introduction to the Mandelbrot Set\n",
    "The *Mandelbrot set* is a set of points in the complex plane that share an interesting property that is best explained through the following:\n",
    "+ Choose a complex number c\n",
    "+ With this c in mind, start with z<sub>0</sub> = 0\n",
    "+ Then repeatedly iterate as follows:\n",
    "+ z<sub>n+1</sub> = z<sub>n</sub><sup>2</sup> + c\n",
    "\n",
    "The Mandelbrot set is the collection of all complex numbers *c* such that this process does not diverge into infinity as n gets large. So: for some **c** if z<sub>n</sub> diverges to infinity (becomes unreasonably large) then c is not in the set; otherwise it is.\n",
    "+ a good check for if z<sub>n</sub> diverges is: abs(z) > 2\n",
    "\n",
    "There are other, equivalent definiiton sof the Mandelbrot set. For example, the Mandelbrot set consists of those points in the complex plane for which the associated *Julia set* is connected. This requires defining Julia sets... which will not be done in this assignment. \n",
    "\n",
    "The Mandelbrot set is a *fractal*, menaing that its boundary is so complex that it can not be well approximated by one-dimensional line segments, regardless of how closely one zooms in on it. See here for more [references about this topic](https://en.wikipedia.org/wiki/Mandelbrot_set). \n",
    "\n",
    "### <span style=\"color:violet\"> Complex Numbers in Python </span>\n",
    "In Python, a complex number is represented in terms of its *real* part x and its *imaginary* party y:\n",
    "+ The mathematical notation would be x+yi, but\n",
    "+ in Python the imaginary unit is typed as 1.0j or 1j, so that \n",
    "\n",
    "    **c = x + y*1j**\n",
    "\n",
    "    sets the variable c to the complex number with real part x and imaginary part y.\n",
    "+ The syntax x + yj does not work, because Python thinks you're adding a variable named yj.\n",
    "+ Also, the value 1 + j is not a complex number: Python assumes you mean a variable named j unless there is an int or a float directly in front of it. Use 1 + 1j instead. (j is a very common variable name!)\n",
    "\n",
    "Complex Numbers side notes:\n",
    "+ Mathematicians use *i* to represent the imaginary unit.\n",
    "+ Engineers often use *j* (in part, because i refers to electrical current, often modeled in the complex plane!)\n",
    "+ (Python follows the engineering convention, perhaps because i is so common a variable name, though so is j...)\n",
    "Also, if you're not terribly familiar with complex numbers, no worries! You just need to know a few little things:\n",
    "+ Since a complex number has two parts (real and imaginary), you can think of those two parts as coordinates on a graph.\n",
    "+ Arithmetic with complex numbers is a bit tricky, but Python knows how to do it.\n",
    "+ The absolute value of a number x + y*1j is defined as the square root of the sum of the squares:\n",
    "\n",
    "    abs(x + y*1j) = sqrt(x ** 2 + y **2 )\n",
    "\n",
    "    which you may recognize as Pythagoras' Theorem for the hypotenuse of a right triangle. That's not accidental; the absolute value of x + y*1j is in fact the same as the distance from (0,0) (or 0+0j) to the point (x,y). And thus, abs(3+4j) is precisely 5!"
   ]
  },
  {
   "cell_type": "code",
   "execution_count": null,
   "metadata": {
    "vscode": {
     "languageId": "plaintext"
    }
   },
   "outputs": [],
   "source": [
    "To get familiar with complex numbers, open a new terminal and in the command-line Python prompt try:\n",
    "\n",
    "In [1]: c = 3 + 4j\n",
    "\n",
    "In [2]: c\n",
    "Out[2]: (3+4j)\n",
    "\n",
    "In [3]: abs(c)\n",
    "Out[3]: 5.0\n",
    "\n",
    "In [4]: c**2\n",
    "Out[4]: (-7+24j)"
   ]
  },
  {
   "cell_type": "markdown",
   "metadata": {},
   "source": [
    "Python is happy to use the power operator (**) and other operators with complex numbers. However, not that you cannot compare complex numbers directly with > or <, they are 2D points. So there's no \"great then\". Thus, you cannot write c > 2 for a complex c (it will \"throw\" a TypeError).\n",
    "+ you CAN however compare the *magnitude* of complex numbers: ex. abs(c) > 2\n",
    "+ the built-in abs function will retun the magnitude of a complex number"
   ]
  },
  {
   "cell_type": "markdown",
   "metadata": {},
   "source": [
    "#### Next function <span style=\"color:green\"> inMSet(c, n) </span>\n",
    "+ accepts a complex number c and an integer n. This function will return a Boolean:\n",
    "+ <span style=\"color:grey\">True</span> if the complex number c is in the Mandelbrot set and\n",
    "+ <span style=\"color:grey\">False</span> otherwise\n",
    "\n",
    "To determine whether or not a number c is in the Mandelbrot set, you will:\n",
    "+ start with z<sub>0</sub> = 0 + 0j and then\n",
    "+ repeatedly iterate z<sub>n+1</sub>=z<sub>n</sub><sup>2</sup> + c\n",
    "to see i fthis sequence of z<sub>0</sub>, z<sub>1</sub>, z<sub>2</sub>, etc. stays bounded.\n",
    "To put it another way, we need to know whether or not the magnitude of this z<sub>k</sub> sequence goes off toward infinity. \n",
    "\n",
    "Truly determining whether or not this sequence goes off to infinity isn't feasible. To make a reasonable guess, we will have to decide on two things:\n",
    "1. The number of times we are willing to wait for the z<sub>n+1</sub> = z<sub>n</sub><sup>2</sup> + c to run\n",
    "2. A value that will represent \"infinity\"\n",
    "\n",
    "We will run the update process n times. The n is the second argument to the function <span style=\"color:green\"> inMSet(c, n) </span>. This value you will experiment with, but 25 is a good starting point\n",
    "- The value for infinity can be surprisingly low! It has been shown that if the absolute value of a complex number z ever gets larger than 2 during the update process, then the sequence will *definitely* diverge to infinity!\n",
    "- There is no equivalent rule that tells us that the sequence definitely does not diverge, but it is very likely it will stay bounded if abs(z) does not exceed 2 after a reasonable number of iterations.\n",
    "- Our n is that \"reasonable\" number, starting at 25.\n",
    "\n",
    "#### <span style=\"color: violet\"> Writing the inMSet function </span>\n",
    "You should copy your <span style=\"color:green\"> update </span> function and change its name to <span style=\"color:green\">inMSet </span>.\n",
    "\n",
    "It's definitely better to copy and change that old function—do **not** call <span style=\"color:green\">update </span> directly.\n",
    "\n",
    "Hints:\n",
    "+ The <span style=\"color:green\"> inMSet </span> function should <span style=\"color:grey\">return False</span> if the sequence z<sub>n+1</sub> = z<sub>n</sub><sup>2</sup> + c ever yields a z value whos magnitude is greater than 2. Othwerise, it returns True.\n",
    "+ Note: you will **not** need different variables for z<sub>0</sub>, z<sub>1</sub>, z<sub>2</sub>, etc. \n",
    "    + you will use a single variable z which will be updated within the loop\n",
    "+ the loop should <span style=\"color:grey\">return False</span> **as soon as** the value of z exceeds 2. If you try to wait until the end of the loop, you may wind up with a complex number that is too big for Python to represent.\n",
    "+ Make sure that you are using <span style=\"color:grey\">return False</span> somewhere inside your loop. You want to <span style=\"color:grey\">return True</span> after the loop as finished all of its iterations.\n",
    "\n"
   ]
  },
  {
   "cell_type": "code",
   "execution_count": null,
   "metadata": {},
   "outputs": [],
   "source": [
    "def inMSet(c, n):\n",
    "    \"\"\" inMSet accepts\n",
    "            c for the update step of z = z**2+c\n",
    "            n, the maximum number of times to run that step.\n",
    "        Then, it returns\n",
    "            False as soon as abs(z) gets larger than 2.\n",
    "            True if abs(z) never gets larger than 2 (for n iterations).\n",
    "    \"\"\"\n",
    "    # write your function here\n",
    "\n",
    "\n",
    "# check your inMSet function by running these assert tests (or each test individually at the command line)\n",
    "assert inMSet(0 + 0j, 25) == True\n",
    "assert inMSet(3 + 4j, 25) == False\n",
    "assert inMSet(.3 + -.5j, 25) == True\n",
    "assert inMSet(-.7 + .3j, 25) == False\n",
    "assert inMSet(.42 + .2j, 25) == True\n",
    "assert inMSet(.42 + .2j, 50) == False"
   ]
  },
  {
   "cell_type": "markdown",
   "metadata": {},
   "source": [
    "#### <span style =\"color: violet\"> Creating PNG images in Python </span>\n",
    "Try out this code to get started:"
   ]
  },
  {
   "cell_type": "code",
   "execution_count": 15,
   "metadata": {},
   "outputs": [
    {
     "name": "stdout",
     "output_type": "stream",
     "text": [
      "Starting to save test.png...test.png saved.\n"
     ]
    }
   ],
   "source": [
    "def weWantThisPixel(col, row):\n",
    "    \"\"\"This function returns True if we want to show\n",
    "       the pixel at col, row and False otherwise.\n",
    "    \"\"\"\n",
    "    if col % 10 == 0  and  row % 10 == 0:\n",
    "        return True\n",
    "    else:\n",
    "        return False\n",
    "\n",
    "def test():\n",
    "    \"\"\"This function demonstrates how\n",
    "       to create and save a PNG image.\n",
    "    \"\"\"\n",
    "    width = 300\n",
    "    height = 200\n",
    "    image = PNGImage(width, height)\n",
    "\n",
    "    # Create a loop that will draw some pixels.\n",
    "\n",
    "    for col in range(width):\n",
    "        for row in range(height):\n",
    "            if weWantThisPixel(col, row):\n",
    "                image.plotPoint(col, row)\n",
    "\n",
    "    # We looped through every image pixel; we now write the file.\n",
    "\n",
    "    image.saveFile()\n",
    "\n",
    "test()"
   ]
  },
  {
   "cell_type": "markdown",
   "metadata": {},
   "source": [
    "If everything goes well, <span style = \"color:green\"> test() </span> will run through the nested loops and print a message that the file test.png has been created. \n",
    "\n",
    "That file should appear in the same directory as your hw8pr1.py file. For the above function, your image should be all white except for a regular, sparse point field, plotted wherever the row number and column numberwe rwe both multiples of 10:\n",
    "\n",
    "![test image](https://www.cs.hmc.edu/~cs5grad/cs5/mset/mtest1.png)\n",
    "\n",
    "Thought experiment: and vs. or in pixel plotting\n",
    "Before changing the above code, **write a short comment** under the <span style = \"color:green\"> test() </span> function describing how the image would change if you changed the line:\n",
    "\n",
    "**if col % 10 == 0 and row % 10 == 0:**\n",
    "\n",
    "to the line:\n",
    "\n",
    "**if col % 10 == 0 or row % 10 == 0:**\n",
    "\n",
    "Then, make the change from and to or and try it by running the code cell above. Just for practice, you can also try creating other patterns in your image by changing the <span style = \"color:green\"> test </span> and <span style=\"color:green\"> weWantThisPixel </span> funcitons appropriately.\n",
    "\n",
    "**Notes on how the <span style=\"color green\"> test </span> function works:**\n",
    "+ image = PNGImage(width, height)     \n",
    "    + This line of code creates a variable of type PNGImage with the specified height and width. The image variable holds the whole image! This is similar to the way a single variable—often called L—can hold an arbitrarily large list of items. When information is gathered together into a list or an image or another structure, it is called a software object or just an object.\n",
    "    + We will build objects of our own design in a couple of weeks; this lab is an opportunity to use them without worrying about how to create them from scratch.\n",
    "\n",
    "+ image.plotPoint(col, row)    \n",
    "    +  An important property of software objects is that they carry around and call functions of their own! They do this using the dot . operator. Here, the image object is calling its own plotPoint function to place a pixel at the given column and row. Functions called in this way are sometimes called methods.\n",
    "\n",
    "+ image.saveFile()    \n",
    "    +  This line creates the new test.png file that holds the png image. It demonstrates another method (i.e., function) of the software object named image.\n",
    "\n",
    "\n"
   ]
  },
  {
   "cell_type": "markdown",
   "metadata": {},
   "source": [
    "#### <span style=\"color: violet\"> From pixel coordinates to complex coordinates </span>\n",
    "\n",
    "The problem:\n",
    "\n",
    "Ultimately, we need to plot the Mandelbrot set within the complex plane. However, when we plot points in the image, we must manipulate pixels in their own coordinate system.\n",
    "\n",
    "As the <span style=\"color:green\"> testImage() </span> example shows, pixel coordinates start at (0, 0) (in the lower left) and grow to (width-1, height-1) in the upper right. In the example above, <span style =\"color: grey\"> width </span>  was 300 and <span style =\"color: grey\"> height </span> was 200, giving us a small-ish image that will render quickly.\n",
    "\n",
    "The Mandelbrot Set, as the image below shows, lives in the box\n",
    "\n",
    "<span style =\"color: grey\"> -2.0 ≤ x (or real coordinate) ≤ +1.0 </span> and \n",
    "\n",
    "<span style =\"color: grey\">  -1.0 ≤ y (or imaginary coordinate) ≤ +1.0 </span>\n",
    "\n",
    "which is a 3.0 x 2.0 rectangle.\n",
    "\n",
    "So, we need to convert each pixel's <span style =\"color: grey\"> col </span> ineger value to a floating-point value, x. We also need to convert from each pixel's <span style =\"color: grey\"> row </span> integer value to the appropriate floating-point value, y.\n",
    "\n",
    "An image of these relationships:\n",
    "![pixel conversion](https://www.cs.hmc.edu/twiki/pub/CS5Fall2023/Lab8/mset_geom.png)\n",
    "\n"
   ]
  },
  {
   "cell_type": "markdown",
   "metadata": {},
   "source": [
    "\n",
    "#### <span style=\"color:violet\"> Writing the scale function </span>\n",
    "\n",
    "One function, named <span style=\"color:green\"> scale(pix, pixMax, floatMin, floatMax) </span> will convert coordinates in general. \n",
    "\n",
    "Details about <span style=\"color:green\"> scale(pix, pixMax, floatMin, floatMax) </span>: \n",
    "+ The first argument, <span style=\"color:grey\"> pix </span>, is the current pixel value: we are at column 150 (or perhaps row 150; scale doesn't care).\n",
    "+ The second argument, <span style=\"color:grey\"> pixMax </span>, is the maximum possible pixel value: pixels run from 0 to 200 in this case.\n",
    "+ The third argument, <span style=\"color:grey\"> floatMin </span>, is the minimum floating-point value. This is what the function will return when the first argument is 0.\n",
    "+ The fourth argument, <span style=\"color:grey\"> floatMax </span>, is the maximum floating-point value. This is what the function will return when the first argument is <span style=\"color:grey\"> pixMax </span>.\n",
    "\n",
    "The **return value** should be the floating-point value that corresponds to the integer pixel value of the first argument.\n",
    "\n",
    "The return value will always be somewhere between <span style=\"color:grey\"> floatMin </span> and <span style=\"color:grey\"> floatMax </span> (inclusive).\n",
    "\n",
    "**Hints:**\n",
    "+ This function will NOT use a loop. In fact, it's really just arithmetic. You will need to ask yourself:\n",
    "    + How to use the quantity pix / pixMax\n",
    "    + How to use the quantity floatMax - floatMin\n",
    "+ if you are in Gold, you wrote a very similar function (interp) earlier in the semester, in Lab 1. You might look back at that one to remember how it worked... !\n",
    "\n",
    "This diagram illustrates the geometry of these values:\n",
    "![diagram](https://www.cs.hmc.edu/~cs5grad/cs5/pixScale.png)\n"
   ]
  },
  {
   "cell_type": "code",
   "execution_count": null,
   "metadata": {},
   "outputs": [],
   "source": [
    "def scale(pix, pixMax, floatMin, floatMax):\n",
    "    \"\"\"scale accepts\n",
    "           pix, the CURRENT pixel column (or row).\n",
    "           pixMax, the total number of pixel columns.\n",
    "           floatMin, the minimum floating-point value.\n",
    "           floatMax, the maximum floating-point value.\n",
    "       scale returns the floating-point value that\n",
    "           corresponds to pix.\n",
    "    \"\"\"\n",
    "    # write your function here\n",
    "\n",
    "\n",
    "# check your scale function by running these assert tests (or each test individually at the command line)\n",
    "assert scale(100, 200, -2.0, 1.0) == -0.5\n",
    "assert scale(150, 300, -2.0, 2.0) == 0.0\n",
    "assert scale(100, 300, -2.0, 1.0) == -1.0\n",
    "assert scale(25, 300, -2.0, 1.0) == -1.75\n",
    "assert scale(299, 300, -2.0, 1.0) == 0.99  # your test may fail for this example, bceause your exact value may differ slightly\n"
   ]
  },
  {
   "cell_type": "markdown",
   "metadata": {},
   "source": [
    "#### <span style=\"color:violet\"> Visualizing the Mandelbrot set in black and white: mset </span>\n",
    "\n",
    "This part asks you to put the pieces from the above sections together into a function named <span style=\"color:green\"> mset() </span> that computes the set of points in the Mandelbrot set on the complex plane and creates a bitmap of them, of size <span style=\"color:grey\"> width </span> by <span style=\"color:grey\"> height </span>.\n",
    "\n",
    "To focus on the interesting part of the complex plane, we will limit the ranges of x and y to \n",
    "\n",
    "**<span style=\"color:grey\"> -2.0 ≤ x or real coordinate ≤ +1.0** and \n",
    "\n",
    "**<span style=\"color:grey\"> -1.0 ≤ y or imaginary coordinate ≤ +1.0 </span>**\n",
    "\n",
    "which is a 3.0 x 2.0 rectangle.\n",
    "\n",
    "(**Note**: in the above code we wrote <span style=\"color:grey\">\"if inMSet(c, n) == True:\"</span> to make it clear what we're doing. Experienced programmers would usually write just <span style=\"color:grey\">\"if inMSet(c, n):\"</span> , which accomplishes the same thing. Why does this work? And why is it preferred style?)\n",
    "\n",
    "To build the Mandelbrot set, you will need to change a number of behaviors in this function—start where the comment suggests that you should **Use scale twice**:\n",
    "\n",
    "+ For each pixel <span style=\"color:grey\"> col </span>, you need to compute the real (x) coordinate of that pixel in the complex plane. Use the variable x to hold this x-coordinate, and use the <span style=\"color:green\"> scale </span> function to find it!\n",
    "\n",
    "+ For each pixel <span style=\"color:grey\"> row </span>, you need to compute the imaginary (y) coordinate of that pixel in the complex plane. Use the variable y to hold this y-coordinate, and again use the <span style=\"color:green\"> scale </span> function to find it! Even though this will be the imaginary part of a complex number, it is simply a normal floating-point value.\n",
    "\n",
    "+ Using the real and imaginary parts computed in the prior two steps, create a variable named c that holds a complex value with those real (x) and imaginary (y) parts, respectively. Recall that you'll need to multiply <span style=\"color:grey\"> y * 1j </span> ,<span style=\"color:grey\"> not y * j</span>!\n",
    "\n",
    "+ Finally, your test for which pixel col and row values to plot will involve inMSet, the first function you wrote. You'll want to specify a value for the argument named n to that inMSet function. We suggest that you start with a value of 25 for n.\n",
    "Once you've composed your function, try running your code cell.\n",
    "\n",
    "and check to be sure that the image you get is a black-and-white version of the Mandelbrot set, e.g., something like this:\n",
    "\n",
    "![mset](https://www.cs.hmc.edu/~cs5grad/cs5/mset/mset1.png)\n"
   ]
  },
  {
   "cell_type": "code",
   "execution_count": null,
   "metadata": {},
   "outputs": [],
   "source": [
    "def mset():\n",
    "    \"\"\"Creates a 300x200 image of the Mandelbrot set.\n",
    "    \"\"\"\n",
    "    width = 300*1       # We can update the 1 later to enlarge the image...\n",
    "    height = 200*1\n",
    "    image = PNGImage(width, height)\n",
    "\n",
    "    # Create a loop to draw some pixels\n",
    "\n",
    "    for col in range(width):\n",
    "        for row in range(height):\n",
    "            # Use scale twice:\n",
    "            #   once to create the real part of c (x)\n",
    "            # x = scale( ..., ..., ..., ...)\n",
    "            #   once to create the imaginary part of c (y)\n",
    "            # y = scale( ..., ..., ..., ...)\n",
    "            # THEN, create c, choose n, and test:\n",
    "            c = x + y*1j\n",
    "            n = 25\n",
    "            if inMSet(c, n) == True:\n",
    "                image.plotPoint(col, row)\n",
    "\n",
    "    # We looped through every image pixel; we now write the file\n",
    "    image.saveFile()\n",
    "\n",
    "mset()"
   ]
  },
  {
   "cell_type": "markdown",
   "metadata": {},
   "source": [
    "#### <span style=\"color:violet\"> Adding features to your mset function </span>\n",
    "You don't have to use just black and white!\n",
    "\n",
    "The <span style=\"color: green\"> image.plotPoint </span> method accepts an optional third argument that represents the color of the point you'd like to plot. Here is an example:\n",
    "\n",
    "image.plotPoint(col, row, (0, 0, 255))\n",
    "\n",
    "The third argument here is a list that uses parentheses instead of square brackets. Parenthesized lists are called tuples in Python. Tuples are faster to access than lists, but their elements cannot be assigned to, so they're often used for constants such as colors.\n",
    "+ The three elements of the color tuple above are red, then green, then blue; each of those three color components must be an integer from 0 to 255. Thus, the tuple above, <span style=\"color:grey\"> (0, 0, 255) </span> is pure blue.\n",
    "\n",
    "To change the background of the set, add the lines:\n",
    "\n",
    "    else:\n",
    "\n",
    "        image.plotPoint(col,row, (0, 0, 0))\n",
    "\n",
    "within the loops that run over each <span style=\"color:grey\">col</span> and each <span style=\"color:grey\">row</span>. This will explicitly plot, in black, all of the points not in the Mandelbrot Set\n",
    "\n",
    "Try it out! perhaps first by changing your Mandelbrot set to orange (255, 175, 0) on top of a black background (0, 0, 0). You should get the following image:\n",
    "![orange](https://www.cs.hmc.edu/~cs5grad/cs5/mset/mset2.png)\n",
    "\n",
    "Then, change the colors to something more to your liking!\n",
    "\n",
    "Feel free to enlarge your image, too—it will take longer to render, but you'll be able to resolve more detail in the result!"
   ]
  },
  {
   "cell_type": "markdown",
   "metadata": {},
   "source": [
    "#### <span style=\"color:violet\">No magic numbers!</span>\n",
    "*Magic Numbers* are simply literal numeric values that you have typed into your code. They're called *magic* numbers because if someone tries to read your code, the values and purpose of those numbers seem to have been \"pulled out of a hat.\"\n",
    "\n",
    "To keep your code as flexible and expandable as possible, it's a good idea to avoid using these \"magic numbers\" for important quantities in various places in your functions. Instead, it's better to collect all of those magic numbers at the very top of your functions (after the docstring) and to give them useful names that suggest their purpose. It's common, though not required, to use only capital letters for these values.\n",
    "\n",
    "In addition to being clearer, this makes it much easier to add or change functionality in your code—all of the important quantities are defined **one time** and in **one place**.\n",
    "\n",
    "For this part of the lab, **move all of your magic numbers to the top of the function and give them descriptive names**. For example, these five lines are a good starting point:"
   ]
  },
  {
   "cell_type": "code",
   "execution_count": null,
   "metadata": {
    "vscode": {
     "languageId": "plaintext"
    }
   },
   "outputs": [],
   "source": [
    "NUM_ITERATIONS = 25  # Number of updates; will be assigned to n\n",
    "XMIN = -2.0          # The smallest real coordinate value\n",
    "XMAX =  1.0          # The largest real coordinate value\n",
    "YMIN = -1.0          # The smallest imaginary coordinate value\n",
    "YMAX =  1.0          # The largest imaginary coordinate value"
   ]
  },
  {
   "cell_type": "markdown",
   "metadata": {},
   "source": [
    "These variables can then be changed in one place if you want to alter the \"window\" onto the Mandelbrot set being plotted.\n",
    "\n",
    "In the next part, you'll change these values to zoom into the Mandelbrot set.\n",
    "\n",
    "\n",
    "#### <span style=\"color:violet\"> Zooming in! </span>\n",
    "For this part, simply run your mset function with some different values of XMAX, XMIN, YMAX, and YMIN to create images of different parts of the Mandelbrot Set.\n",
    "\n",
    "Here is an example that uses:"
   ]
  },
  {
   "cell_type": "code",
   "execution_count": null,
   "metadata": {
    "vscode": {
     "languageId": "plaintext"
    }
   },
   "outputs": [],
   "source": [
    "NUM_ITERATIONS = 100  # of updates\n",
    "    XMIN = -1.2  # The smallest real coordinate value\n",
    "    XMAX =  -.6  # The largest real coordinate value\n",
    "    YMIN = -.5   # The smallest imaginary coordinate value\n",
    "    YMAX = -.01  # The largest imaginary coordinate value\n",
    "    FACTOR = 3\n",
    "    width = 300*FACTOR\n",
    "    height = 200*FACTOR\n",
    "    image = PNGImage(width, height)   # make sure the image is the correct size!"
   ]
  },
  {
   "cell_type": "markdown",
   "metadata": {},
   "source": [
    "![zoom](https://www.cs.hmc.edu/twiki/pub/CS5Fall2023/Lab8/test_michelle_lum_19.png)\n",
    "\n",
    "with acknowledgments and thanks to Michelle Lum, in CS5 in '19, whose code was used here!\n",
    "\n",
    "another range you're welcome to try is admist the \"infiniet snowmen\":"
   ]
  },
  {
   "cell_type": "code",
   "execution_count": null,
   "metadata": {
    "vscode": {
     "languageId": "plaintext"
    }
   },
   "outputs": [],
   "source": [
    "NUMITER = 25\n",
    "XMIN = -1.2\n",
    "XMAX = -.6\n",
    "YMIN = -.5\n",
    "YMAX = -.1"
   ]
  },
  {
   "cell_type": "markdown",
   "metadata": {},
   "source": [
    "**optionally** feel free to look around to find another set of values that shows an interesting piece of the set—and note what they are in a comment in your mset function. As a guide, you might consider the suggestions at this page on the [\"Seahorse Valley\"](https://mrob.com/pub/muency/seahorsevalley.html).\n",
    "\n",
    "Note that the aspect ratio of the image is 3:2 (horizontal:vertical), and if you keep this aspect ratio in your ranges, the set will be scaled naturally.\n",
    "\n",
    "It will work with different ratios, but to maintain the natural scaling, you would have to change the height and width of the image accordingly. Or you could compute the height and width, but that's not required for this lab."
   ]
  },
  {
   "cell_type": "markdown",
   "metadata": {},
   "source": [
    "#### <span style=\"color:violet\"> Visualizing escape velocities </span>\n",
    "\n",
    "<span style=\"color:red\"> Note: you are allowed to use an LLM to help with this part of the assignment </span>\n",
    "\n",
    "This extension to the Mandelbrot set allows us to see the relative speeeds at which the points in and around the Mandelbrot set escape to infinity.\n",
    "\n",
    "Images of fractals often use color to represent how fast points are diverging toward infinity when they are not contained in the fractal itself. For this problem, create a new version of <span style=\"color:green\">mset</span> called <span style=\"color:green\">msetColor</span>. Simply copy and paste your old code, because its basic behavior will be the same. However, you should alter the <span style=\"color:green\">msetColor</span> function so that it plots points that escape to infinity more quickly in different colors.\n",
    "\n",
    "The idea is to have your <span style=\"color:green\">msetColor</span> function plot the Mandelbrot set as before. In addition, however, use at least three different colors to show how quickly points outside the set are diverging—this is their \"escape velocity.\" Making this change will require a change to your <span style=\"color:green\">inMSet</span> helper function, as well. We suggest that you copy, paste, and rename <span style=\"color:green\">inMSet</span> so that you can change the new version without affecting the old one.\n",
    "\n",
    "There are several ways to measure the \"escape velocity\" of a particular point. One is to look at the resulting magnitude after the iterative updates. Another is to count the number of iterations required before it \"escapes\" to a magnitude that is greater then 2. An advantage of the latter approach is that there are fewer different escape velocities to deal with.\n",
    "\n",
    "Choose one of those approaches—or design another of your own—to implement <span style=\"color:green\">msetColor</span>. Here are two examples (in grayscale)\n",
    "![msetColor1](https://www.cs.hmc.edu/twiki/pub/CS5Fall2023/Lab8/escape2.png)\n",
    "![msetColor2](https://www.cs.hmc.edu/twiki/pub/CS5Fall2023/Lab8/escape1.png)"
   ]
  },
  {
   "cell_type": "markdown",
   "metadata": {},
   "source": [
    "### <span style=\"color: violet\"> Mandelbrotifying another image </span>\n",
    "<span style=\"color:red\"> Note: you are allowed to use an LLM to help with this part of the assignment </span>\n",
    "\n",
    "The png library can read images, too. (As a warning, it's not overly fast in converting them to Python lists…)\n",
    "\n",
    "The result is that you can use another image's pixels to determine the look of the points in (or out of) your Mandelbrot set, e.g.,\n",
    "\n",
    "![mandelbrotifyingImage](https://www.cs.hmc.edu/~cs5grad/cs5/mset/mbtify.png)\n",
    "\n",
    "Here is the example function to show how to read in an image (the alien.png image from the pngs folder):"
   ]
  },
  {
   "cell_type": "code",
   "execution_count": null,
   "metadata": {},
   "outputs": [],
   "source": [
    "def example():\n",
    "    \"\"\"Shows how to access the pixels of another png image.\n",
    "\n",
    "       inputPixels will be a list of rows, \n",
    "           each of which is a list of columns,\n",
    "           each of which is a list [r,g,b].\n",
    "    \"\"\"\n",
    "\n",
    "    iP = getRGB(\"./pngs/alien.png\")\n",
    "    inputPixels = []\n",
    "    for row in iP[::-1]:             # The rows are reversed\n",
    "        # convert to our format (not worth worrying about)\n",
    "        inputPixels += [[ px[0][:-1] for px in row ]]  \n",
    "\n",
    "    height = len(inputPixels)\n",
    "    width = len(inputPixels[0])\n",
    "    image = PNGImage(width, height)\n",
    "\n",
    "    for col in range(width):\n",
    "        for row in range(height):\n",
    "            if col%10 < 5 and row%10 < 5: # Only plot some of the pixels\n",
    "                image.plotPoint(col, row, inputPixels[row][col])\n",
    "\n",
    "    image.saveFile()"
   ]
  },
  {
   "cell_type": "markdown",
   "metadata": {},
   "source": [
    "The code above produces the following image:\n",
    "![image](https://www.cs.hmc.edu/~cs5grad/cs5/mset/exampleImageProc.png)\n",
    "\n",
    "Try **Mandelbrotifying** this image -- or another png you'd like to use...\n",
    "When you are done, you are done with the lab!\n",
    "\n",
    "Be sure to submit this (hw8pr1.ipynb) file!"
   ]
  }
 ],
 "metadata": {
  "kernelspec": {
   "display_name": "venv",
   "language": "python",
   "name": "python3"
  },
  "language_info": {
   "codemirror_mode": {
    "name": "ipython",
    "version": 3
   },
   "file_extension": ".py",
   "mimetype": "text/x-python",
   "name": "python",
   "nbconvert_exporter": "python",
   "pygments_lexer": "ipython3",
   "version": "3.12.3"
  }
 },
 "nbformat": 4,
 "nbformat_minor": 2
}
