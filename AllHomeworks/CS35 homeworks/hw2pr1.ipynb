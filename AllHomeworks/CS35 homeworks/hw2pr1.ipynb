{
 "cells": [
  {
   "attachments": {},
   "cell_type": "markdown",
   "metadata": {},
   "source": [
    "### week2 ~ APIs \n",
    "<b>OR, the-web-as-your-filesystem...</b>  &nbsp;&nbsp; (hw2pr1.ipynb)\n",
    "\n",
    "[the google doc with hw2's details](https://docs.google.com/document/d/1SIJn4-0EhprecONph85rWV8yyYWujrBzLQaktvguOF4/edit)\n",
    "<hr>"
   ]
  },
  {
   "cell_type": "code",
   "execution_count": null,
   "metadata": {},
   "outputs": [],
   "source": [
    "# turn off - or on - \"pretty printing\"  This saves space with lists, etc.\n",
    "%pprint"
   ]
  },
  {
   "cell_type": "code",
   "execution_count": null,
   "metadata": {},
   "outputs": [],
   "source": []
  },
  {
   "cell_type": "code",
   "execution_count": null,
   "metadata": {},
   "outputs": [],
   "source": [
    "#\n",
    "# see if you have the requests library \n",
    "#\n",
    "\n",
    "import requests"
   ]
  },
  {
   "cell_type": "code",
   "execution_count": null,
   "metadata": {},
   "outputs": [],
   "source": [
    "#\n",
    "# If you _don't_ have the requests library, let's install it!\n",
    "#\n",
    "\n",
    "# for me, it worked to uncomment and run this command, here in this cell:\n",
    "# !pip3 install requests  OR   !pip install requests\n",
    "\n",
    "# an alternative is to run, in a terminal, the command would be \n",
    "#  pip3 install requests  OR    pip install requests      (the ! is needed only if inside Python)\n",
    "\n",
    "# It's very system-dependent how much you have to \"restart\" in order to use\n",
    "# the new library (the notebook, VSCode, the Jupyter extension, etc.)\n",
    "\n",
    "# Troubles?  Let us know!  We'll work on it with you..."
   ]
  },
  {
   "cell_type": "code",
   "execution_count": null,
   "metadata": {},
   "outputs": [],
   "source": [
    "#\n",
    "# hopefully, this now works! (if so, running will succeed silently)\n",
    "#\n",
    "\n",
    "import requests"
   ]
  },
  {
   "cell_type": "code",
   "execution_count": null,
   "metadata": {},
   "outputs": [],
   "source": [
    "#\n",
    "# let's try it on a simple webpage\n",
    "#\n",
    "\n",
    "#\n",
    "# we assign the url and obtain the api-call result into result\n",
    "#    Note that result will be an object that contains many fields (not a simple string)\n",
    "# \n",
    "\n",
    "url = \"https://www.cs.hmc.edu/~dodds/demo.html\"\n",
    "result = requests.get(url)\n",
    "result    \n",
    "\n",
    "# if it succeeded, you should see <Response [200]>\n",
    "# See the list of HTTP reponse codes for the full set!"
   ]
  },
  {
   "cell_type": "markdown",
   "metadata": {},
   "source": [
    "[Here is Wikipedia's list of all HTTP response codes](https://en.wikipedia.org/wiki/List_of_HTTP_status_codes)\n",
    "+ 100's: information\n",
    "+ 200's: success           \n",
    "+ 300's: redirects\n",
    "+ 400's + 500's: errors\n",
    "\n",
    "Perhaps familiar:  404 <br>\n",
    "Especially fun:  418\n"
   ]
  },
  {
   "cell_type": "code",
   "execution_count": null,
   "metadata": {},
   "outputs": [],
   "source": [
    "#\n",
    "# when exploring, you'll often obtain an unfamiliar object. \n",
    "# Here, we'll ask what type it is \n",
    "type(result)"
   ]
  },
  {
   "cell_type": "markdown",
   "metadata": {},
   "source": [
    "How to access the data inside this object, ``result`` ?\n",
    "\n",
    "One way: [Head over to the online documentation](https://requests.readthedocs.io/en/latest/api/#requests.Response)\n",
    "\n",
    "In addition, you can \"look around\" in Python:"
   ]
  },
  {
   "cell_type": "code",
   "execution_count": null,
   "metadata": {},
   "outputs": [],
   "source": [
    "# here is one of the data members within the result\n",
    "# it \"remembers\" (keeps track of) the url requested:\n",
    "result.url"
   ]
  },
  {
   "cell_type": "code",
   "execution_count": null,
   "metadata": {},
   "outputs": [],
   "source": [
    "# We can print all of the data members in an object with dir\n",
    "# Since dir returns a list, we will grab that list and loop over it:\n",
    "all_fields = dir(result)\n",
    "\n",
    "for field in all_fields:\n",
    "    if \"_\" not in field: \n",
    "        print(field)"
   ]
  },
  {
   "cell_type": "code",
   "execution_count": null,
   "metadata": {},
   "outputs": [],
   "source": [
    "#\n",
    "# Let's try printing a few of those fields (data members): \n",
    "print(f\"result.url         is {result.url}\")  # the original url\n",
    "print(f\"result.raw         is {result.raw}\")  # another object!\n",
    "print(f\"result.encoding    is {result.encoding}\")  # utf-8 is very common\n",
    "print(f\"result.status_code is {result.status_code}\")  # 200 is success!"
   ]
  },
  {
   "cell_type": "code",
   "execution_count": null,
   "metadata": {},
   "outputs": [],
   "source": [
    "# In this case, the result is a text file (HTML) Let's see it!\n",
    "contents = result.text\n",
    "print(contents)"
   ]
  },
  {
   "cell_type": "code",
   "execution_count": null,
   "metadata": {},
   "outputs": [],
   "source": [
    "# Yay!  \n",
    "# This shows that you are able to \"scrape\" an arbitrary HTML page... \n",
    "\n",
    "# Now, we're off to more _structured_ data-gathering..."
   ]
  },
  {
   "attachments": {},
   "cell_type": "markdown",
   "metadata": {},
   "source": [
    "#### Traversing the world - and web - <i>without a browser</i>.   \n",
    "\n",
    "<b>Using the ISS APIs</b> \n",
    "\n",
    "+ Here, you'll make some calls using `requests` to, first, the International Space Station API \n",
    "+ and, then, the US Geological Survey's earthquake API\n",
    "+ \"API\" is short for \"Application Programming Interface\" \n",
    "  + Admittedly, this is not a very informative name:\n",
    "  + The API is the set of services, which are functions and/or urls, provided by some software or site"
   ]
  },
  {
   "attachments": {},
   "cell_type": "markdown",
   "metadata": {},
   "source": [
    "Let's try it with the International Space Station api at [http://api.open-notify.org/iss-now.json](http://api.open-notify.org/iss-now.json)\n",
    "+ [This page has documentation on the ISS API](http://open-notify.org/Open-Notify-API/ISS-Location-Now/)"
   ]
  },
  {
   "cell_type": "code",
   "execution_count": null,
   "metadata": {},
   "outputs": [],
   "source": [
    "#\n",
    "# we assign the url and obtain the api-call result into result\n",
    "#    Note that result will be an object that contains many fields (not a simple string)\n",
    "# \n",
    "\n",
    "import requests\n",
    "\n",
    "url = \"http://api.open-notify.org/iss-now.json\"   # this is sometimes called an \"endpoint\" ...\n",
    "result = requests.get(url)\n",
    "result    \n",
    "\n",
    "# if it succeeded, you should see <Response [200]>"
   ]
  },
  {
   "cell_type": "code",
   "execution_count": null,
   "metadata": {},
   "outputs": [],
   "source": [
    "#\n",
    "# Let's try printing those shorter fields from before:\n",
    "print(f\"result.url         is {result.url}\")  # the original url\n",
    "print(f\"result.raw         is {result.raw}\")  # another object!\n",
    "print(f\"result.encoding    is {result.encoding}\")  # utf-8 is very common\n",
    "print(f\"result.status_code is {result.status_code}\")  # 200 is success!"
   ]
  },
  {
   "cell_type": "code",
   "execution_count": null,
   "metadata": {},
   "outputs": [],
   "source": [
    "#\n",
    "# In this case, we know the result is a JSON file, and we can obtain it that way:\n",
    "json_contents = result.json()\n",
    "print(json_contents)\n",
    "\n",
    "# Remember:  json_contents will be a _dictionary_"
   ]
  },
  {
   "cell_type": "code",
   "execution_count": null,
   "metadata": {},
   "outputs": [],
   "source": [
    "#\n",
    "# Let's re-remind ourselves how dictionaries work:\n",
    "\n",
    "json_contents['message']       # Challenge:  could we access the other components? What _types_ are they?!!"
   ]
  },
  {
   "cell_type": "code",
   "execution_count": null,
   "metadata": {},
   "outputs": [],
   "source": [
    "#\n",
    "# In Python, we can use the resulting dictionary... let's see its keys:\n",
    "print(list(json_contents.keys()))  \n",
    "\n",
    "# Also, watch out for string vs. numeric types, e.g., for latitude and longitude.\n",
    "# At heart, _all_ web data are strings... .\n",
    "\n",
    "# These experiments will be helpful for problem 1, below :)"
   ]
  },
  {
   "cell_type": "markdown",
   "metadata": {},
   "source": [
    "## JSON\n",
    "\n",
    "####  Let's make a brief JSON visit in Python\n",
    "\n",
    "The library ``json`` allows us to create and read arbitrary JSON data."
   ]
  },
  {
   "cell_type": "code",
   "execution_count": null,
   "metadata": {},
   "outputs": [],
   "source": [
    "# JSON is a javascript dictionary format -- almost the same as a Python dictionary:\n",
    "data = { 'key':'value',  'fave':42,  'list':[5,6,7,{'mascot':'Aliiien'}] }\n",
    "print(data)\n",
    "\n",
    "# we can write in JSON format to a local file, named small42.json:\n",
    "import json \n",
    "\n",
    "with open(\"small.json\", \"w\") as f:\n",
    "    json.dump( data, f )"
   ]
  },
  {
   "cell_type": "code",
   "execution_count": null,
   "metadata": {},
   "outputs": [],
   "source": [
    "# We can also read from a json file\n",
    "# The resulting data will be a _dictionary_:\n",
    "\n",
    "with open(\"small.json\", \"r\") as f:\n",
    "    dictionary = json.load( f )\n",
    "\n",
    "print(f\"the {dictionary = }\")"
   ]
  },
  {
   "cell_type": "code",
   "execution_count": null,
   "metadata": {},
   "outputs": [],
   "source": [
    "# let's access this dictionary -- first, the keys:\n",
    "list(dictionary.keys())   # How do we get 'Aliiien' from newdata?"
   ]
  },
  {
   "cell_type": "code",
   "execution_count": null,
   "metadata": {},
   "outputs": [],
   "source": [
    "# Task: use the dictionary to obtain (a) 'value' , (b) 42 , (c) 'Aliiien'  [tricky!]\n",
    "\n",
    "# remember that there are two ways to get the value from a key:\n",
    "# way 1:  dictionary['key']            # errors if 'key' isn't present\n",
    "# way 2:  dictionary.get('key')        # returns None if 'key' isn't present\n",
    "\n",
    "dictionary['key']"
   ]
  },
  {
   "cell_type": "markdown",
   "metadata": {},
   "source": [
    "Most of the time this will be done for us by the ``requests`` library. So, we will simply receive the dictionary of data sent.\n",
    "\n",
    "Then, the trick is to \"extract\" the data fragments we want. (Sometimes it feels like forensics - or archaeology!) Try excavating items one **layer** at a time..."
   ]
  },
  {
   "cell_type": "markdown",
   "metadata": {},
   "source": [
    "#### Remember: &nbsp; <i>not</i> every url returns json data...\n",
    "+ The url [https://www.cs.hmc.edu/~dodds/demo.html](https://www.cs.hmc.edu/~dodds/demo.html) returns a plain-text file with _markup_ text\n",
    "+ that is to say, with HTML tags, such as `<title>Title</title>` to designate the components of its content\n",
    "+ HTML stands for _hypertext markup language_   \n",
    "+ Often anything with tags similar to `<b>be bold!</b>` is called \"markup.\" \n",
    "\n",
    "Let's try our 5C homepages: they're HTML, not JSON:"
   ]
  },
  {
   "cell_type": "code",
   "execution_count": null,
   "metadata": {},
   "outputs": [],
   "source": [
    "#\n",
    "# here, we will obtain plain-text results from a request\n",
    "url = \"https://www.cs.hmc.edu/~dodds/demo.html\"  # try it + source\n",
    "# url = \"https://www.scrippscollege.edu/\"          # another possible site...\n",
    "# url = \"https://www.pitzer.edu/\"                  # another possible site...\n",
    "# url = \"https://www.cmc.edu/\"                     # and another!\n",
    "result = requests.get(url)        \n",
    "print(f\"result is {result}\")        # hopefully it's 200"
   ]
  },
  {
   "cell_type": "code",
   "execution_count": null,
   "metadata": {},
   "outputs": [],
   "source": [
    "# if the request was successful, the Response will be [200]. \n",
    "# Then, we can grab the text - or json - from the site:\n",
    "\n",
    "text = result.text                  # provides the HTML page as a large string...\n",
    "print(f\"len(text) is {len(text)}\")  # let's see how large the HTML page is... \n",
    "\n",
    "print(\"\\nThe first 242 characters are\\n\")\n",
    "print(text[:242])                  # we'll print the first few characters...  \n",
    "\n",
    "# change this to text[:] to see the whole document...\n",
    "# Notice that we can run many different analyses without having to re-call/re-scrape the page (this is good!)"
   ]
  },
  {
   "cell_type": "markdown",
   "metadata": {},
   "source": [
    "#### Aside: &nbsp; declined requests"
   ]
  },
  {
   "cell_type": "code",
   "execution_count": null,
   "metadata": {},
   "outputs": [],
   "source": [
    "# Notice that some of the sites _decline_ using the HTTP status code 403 -- unless there is an acceptable \"User-Agent\"\n",
    "# You can find your \"User-Agent\" description by opening a browser tab to   http://httpbin.org/headers\n",
    "# Here are the header strings my browser uses:\n",
    "\"\"\"\n",
    "headers = {\n",
    "  \"Accept\": \"text/html,application/xhtml+xml,application/xml;q=0.9,image/avif,image/webp,image/apng,*/*;q=0.8,application/signed-exchange;v=b3;q=0.7\", \n",
    "  \"Accept-Encoding\": \"gzip, deflate\", \n",
    "  \"Accept-Language\": \"en-US,en;q=0.9\", \n",
    "  \"Upgrade-Insecure-Requests\": \"1\", \n",
    "  \"User-Agent\": \"Mozilla/5.0 (Windows NT 10.0; Win64; x64) AppleWebKit/537.36 (KHTML, like Gecko) Chrome/120.0.0.0 Safari/537.36\", \n",
    "  \"X-Amzn-Trace-Id\": \"Root=1-65b6e31a-56bf646364570ee54bd966c7\"\n",
    "}\n",
    "\"\"\"\n",
    "# You can use them with     result = requests.get(url, headers=headers) \n",
    "\"Caution!  See this week's reading!!\""
   ]
  },
  {
   "cell_type": "markdown",
   "metadata": {},
   "source": [
    "#### For now, we will focus on API calls providing JSON \n",
    "+ We're reading-aligned, as we should be!\n",
    "+ The open-ended problem (the finale in this notebook) offers the _option_ of using raw html -- up to you...\n",
    "\n",
    "<br>\n",
    "\n",
    "<b>Let's try another ISS \"endpoint\" ~ one with all of the <i>people</i> in space.</b>\n",
    "\n",
    "It's at this url:  [http://api.open-notify.org/astros.json](http://api.open-notify.org/astros.json)\n"
   ]
  },
  {
   "cell_type": "code",
   "execution_count": null,
   "metadata": {},
   "outputs": [],
   "source": [
    "#\n",
    "# we assign the url and use requests.get to obtain the result into result_astro\n",
    "#\n",
    "#    Remember, result_astro will be an object that contains many fields (not a simple string)\n",
    "# \n",
    "\n",
    "import requests\n",
    "\n",
    "url = \"http://api.open-notify.org/astros.json\"   # this is sometimes called an \"endpoint\" ...\n",
    "result_astro = requests.get(url)\n",
    "result_astro\n",
    "\n",
    "# if it succeeded, you should see <Response [200]>"
   ]
  },
  {
   "cell_type": "code",
   "execution_count": null,
   "metadata": {},
   "outputs": [],
   "source": [
    "# If the request succeeded, we know the result is a JSON file, and we can obtain it that way.\n",
    "# Let's call our dictionary something more specific:\n",
    "\n",
    "astronauts = result_astro.json()\n",
    "print(astronauts)\n",
    "\n",
    "d = astronauts     # shorter to type\n",
    "\n",
    "# Remember:  astronauts will be a _dictionary_\n",
    "\n",
    "note = \"\"\" here's yesterday evening's result - it _should_ be the same this morning!\n",
    "\n",
    "{'message': 'success', 'people': [{'name': 'Jasmin Moghbeli', 'craft': 'ISS'}, {'name': 'Andreas Mogensen', 'craft': 'ISS'}, \n",
    "{'name': 'Satoshi Furukawa', 'craft': 'ISS'}, {'name': 'Konstantin Borisov', 'craft': 'ISS'}, {'name': 'Oleg Kononenko', 'craft': 'ISS'}, \n",
    "{'name': 'Nikolai Chub', 'craft': 'ISS'}, {'name': \"Loral O'Hara\", 'craft': 'ISS'}], 'number': 7}\n",
    "\"\"\""
   ]
  },
  {
   "cell_type": "markdown",
   "metadata": {},
   "source": [
    "This is pretty intricate. Let's try unpacking this - _parsing it_ - with an in-class break-out challenge.\n",
    "\n",
    "Before we do, let's compare with a whole other webservice: **earthquakes** \n",
    "\n",
    "#### Earthquake data\n",
    "\n",
    "[Here is the USGS Earthquate data API documentation](https://earthquake.usgs.gov/fdsnws/event/1/)\n",
    "\n",
    "Notice that the \"headline\" is the URL: &nbsp; This is the <i>domain</i> from which we'll access data.\n",
    "+ Underneath, there are several different <i>endpoints</i> \n",
    "+ We are going to focus on the <tt>count</tt> endpoint and the <tt>query</tt> endpoint\n",
    "+ along with their parameters\n",
    "  + the whole list of parameters is linked and available by scrolling down\n",
    "  + that said, it's easy to miss (well, at least I did! :)"
   ]
  },
  {
   "cell_type": "markdown",
   "metadata": {},
   "source": [
    "First, let's establish that, for these endpoints, we can make requests - by hand - in our browser!\n",
    "\n",
    "Try this link:  [https://earthquake.usgs.gov/fdsnws/event/1/count?format=geojson&minmagnitude=5.0&starttime=2024-01-01&endtime=2024-02-01](https://earthquake.usgs.gov/fdsnws/event/1/count?format=geojson&minmagnitude=5.0&starttime=2024-01-01&endtime=2024-02-01)"
   ]
  },
  {
   "cell_type": "markdown",
   "metadata": {},
   "source": [
    "Ok! Let's parse this url. Requests in which there are parameters <i><b>in the url</b></i> are called GET requests:\n",
    "+ the <b>endpoint</b> is the first part: ``https://earthquake.usgs.gov/fdsnws/event/1/count``\n",
    "   + Notice that the forward-slashes are very much like our file-system trees from last week!\n",
    "   + In fact, they usually <i>are</i> file-system trees. They're just on the <i>server</i> side, instead of our \"client\" side...\n",
    "+ the <b>parameters</b> follow the question mark: ``format=geojson&minmagnitude=5.0&starttime=2024-01-01&endtime=2024-02-01``\n",
    "   + There are four parameters here. Parameters are separated by the ampersand <tt>&amp;</tt> character.\n",
    "   + Each one is in the format <tt>name=value</tt>  Here are the four:\n",
    "   + ``format=geojson`` specifies the desired format of the returned data. ``geojson`` is JSON with geographic data.\n",
    "   + ``minmagnitude=5.0`` specifies the minimum magnitude of earthquakes to consider. 5.0 is strong, if not always catastrophic.\n",
    "   + ``starttime=2024-01-01`` specifies the earlier time-endpoint to consider. (Jan 1, 2024)\n",
    "   + ``endtime=2024-02-01`` specifies the later time-endpoint to consider. (Feb 1, 2024)\n",
    "\n",
    "My result was this:  ``{\"count\":134,\"maxAllowed\":20000}``\n",
    "+ Earthquakes are always happening -- and they do get reclassified. So, the numbers can change - even in the past.\n",
    "\n",
    "Try it, in your browser.\n",
    "\n",
    "Also, try increasing the ``minmagnitude`` -- you'll see a progression of fewer and fewer quakes. (Fortunately!) \n",
    "\n",
    "<hr>"
   ]
  },
  {
   "cell_type": "markdown",
   "metadata": {},
   "source": [
    "Then, try it using a short Python script:"
   ]
  },
  {
   "cell_type": "code",
   "execution_count": null,
   "metadata": {},
   "outputs": [],
   "source": [
    "#\n",
    "# Let's try the  count  endpoint, with geojson format (json with geographical data)\n",
    "#\n",
    "\n",
    "url = \"https://earthquake.usgs.gov/fdsnws/event/1/count?format=geojson&minmagnitude=5.0&starttime=2024-01-01&endtime=2024-02-01\"\n",
    "\n",
    "result = requests.get(url)                       # a named input, params, taking the value param_d, above\n",
    "print(f\"result is {result}\")                     # hopefully, this is 200\n",
    "print(f\"the full url used was\\n {result.url}\")   # it's nice to be able to see this"
   ]
  },
  {
   "cell_type": "code",
   "execution_count": null,
   "metadata": {},
   "outputs": [],
   "source": [
    "# If it worked, we should be able to obtain the JSON. Remember, it's a dictionary. Let's use d:\n",
    "\n",
    "d = result.json()\n",
    "\n",
    "print(f\"{d =}\")"
   ]
  },
  {
   "cell_type": "markdown",
   "metadata": {},
   "source": [
    "#### Handling parameters separately...\n",
    "\n",
    "It's awkward to include all the parameters as part of the url.\n",
    "\n",
    "It's much more common to create a <i>dictionary</i> of the parameters, and then pass that to ``requests.get``\n",
    "\n",
    "Here is an example:"
   ]
  },
  {
   "cell_type": "code",
   "execution_count": null,
   "metadata": {},
   "outputs": [],
   "source": [
    "#\n",
    "# Here is the endpoint\n",
    "#\n",
    "url = \"https://earthquake.usgs.gov/fdsnws/event/1/count\"\n",
    "\n",
    "# Let's use variables for three of the parameters:\n",
    "min_mag = 5.0               # the minimum magnitude considered a quake (min_mag)\n",
    "start_time = \"2024-01-01\"   # this is the year-month-day format of the start\n",
    "finish_time = \"2024-02-01\"  # similar for the end\n",
    "\n",
    "# we assemble a dictionary of our parameters, let's name it param_dictionary\n",
    "# there are many more parameters available. The problems below ask you to explore them...\n",
    "param_dictionary = { \"format\":\"geojson\",         # this is simply hard-coded to obtain json\n",
    "                     \"starttime\":start_time,\n",
    "                     \"endtime\":finish_time,\n",
    "                     \"minmagnitude\":min_mag,\n",
    "                     }\n",
    "\n",
    "# Here, we use requests to make the request. The parameters will be added by this API call:\n",
    "result = requests.get(url, params=param_dictionary)\n",
    "print(f\"result is {result}\")                     # hopefully, this is 200\n",
    "print(f\"the full url used was\\n {result.url}\")   # this will include the parameters!"
   ]
  },
  {
   "cell_type": "code",
   "execution_count": null,
   "metadata": {},
   "outputs": [],
   "source": [
    "# If it worked, we should be able to see the json results:\n",
    "\n",
    "d = result.json()\n",
    "print(f\"JSON returned was {d = }\")"
   ]
  },
  {
   "cell_type": "markdown",
   "metadata": {},
   "source": [
    "From here, it would be possible to write one or more loops and build an earthquake dataset. For example,\n",
    "+ it would be possible to loop over the ``minmagnitude`` to get a distribution of different sized quakes (or a histogram)\n",
    "+ it would be possible to loop over one of the <i>time-endpoints</i>\n",
    "+ it would be possible to loop over one of the _other parameters_ e.g.,\n",
    "  + you can specify a circle around a specific ``latitude`` and ``longitude`` with a ``maxradiuskm`` (the radius)\n",
    "  + Claremont is at ``latitude=34.0967`` and ``longitude=-117.7198`` \n",
    "\n",
    "The next two cells have an example of a Claremont-centric quake-count question and answer:"
   ]
  },
  {
   "cell_type": "code",
   "execution_count": null,
   "metadata": {},
   "outputs": [],
   "source": [
    "#\n",
    "# How many quakes of magnitude >= 4.2 have been within 300km of Claremont \n",
    "#     + in Jan 2024\n",
    "#     + in Dec 2024\n",
    "#\n",
    "url = \"https://earthquake.usgs.gov/fdsnws/event/1/count\"\n",
    "\n",
    "# Let's use variables for three of the parameters:\n",
    "min_mag = 4.2               # the minimum magnitude considered a quake (min_mag)\n",
    "start_time = \"2024-01-01\"   # this is the year-month-day format of the start\n",
    "finish_time = \"2024-02-01\"  # similar for the end\n",
    "# start_time = \"2023-12-01\"   # this is the year-month-day format of the start\n",
    "# finish_time = \"2024-01-01\"  # similar for the end\n",
    "radius_in_km = 300\n",
    "\n",
    "# we assemble a dictionary of our parameters, let's name it param_dictionary\n",
    "# there are many more parameters available. The problems below ask you to explore them...\n",
    "param_dictionary = { \"format\":\"geojson\",         # this is simply hard-coded to obtain json\n",
    "                     \"starttime\":start_time,\n",
    "                     \"endtime\":finish_time,\n",
    "                     \"minmagnitude\":min_mag,\n",
    "                     \"latitude\":34.0967,\n",
    "                     \"longitude\":-117.7198,\n",
    "                     \"maxradiuskm\":radius_in_km,\n",
    "                     }\n",
    "\n",
    "# Here, we use requests to make the request. The parameters will be added by this API call:\n",
    "result = requests.get(url, params=param_dictionary)\n",
    "print(f\"result is {result}\")                     # hopefully, this is 200\n",
    "print(f\"the full url used was\\n {result.url}\")   # this will include the parameters!\n",
    "quake_count = result.json()\n",
    "print(f\"{quake_count = }\")"
   ]
  },
  {
   "cell_type": "markdown",
   "metadata": {},
   "source": [
    "<font color=\"DodgerBlue\"><b>Quake-counting Results:</b></font> \n",
    "\n",
    "#### Number of Claremont-centric quakes\n",
    "  + <u>Overall</u> The API calls to the USGS showed that, within 300km of Claremont, there were\n",
    "    + 2 quakes of magnitude 4.2 or larger in Jan '24\n",
    "    + 1 quake  of magitude 4.2 or larger in Dec '23 <br><br>\n",
    "  + <u>Reflection</u>: _This is not enough data to establish a trend. (I hope!)_ That said, for the hw, you should include a **loop** over at least 10 values, as well as a text-formatted set of values. (It's ok for the output values to be in the computational cell(s), not the markdown cell. The markdown is really for reflection on results than reporting of results.) <br><br>\n",
    "  + <u>Opportunities</u>: In fact, there are lots of values over which the USGS API allows to vary. For example,  minmagnitude (or maxmagnitude), radius, location (lat/long), months (or other time-measurements) - and others. In addition, there is the chance to look at the details of each quake using the ``query`` endpoint. <br><br>"
   ]
  },
  {
   "cell_type": "markdown",
   "metadata": {},
   "source": [
    "Looping over API calls to gather data will be one of the hw problems.\n",
    "\n",
    "<hr>\n",
    "\n",
    "#### The ``query`` endpoint\n",
    "\n",
    "Let's see, too, that it's possible to obtain, not only a <i>count</i>, but also a <b>\"full report\"</b> of all of the earthquakes.\n",
    "\n",
    "To do so, the only change needed is from the endpoint ``count`` to the endpoint ``query``\n",
    "\n",
    "First, try it \"by hand\" -- by opening this url in your browser:\n",
    "\n",
    "[https://earthquake.usgs.gov/fdsnws/event/1/query?format=geojson&minmagnitude=6.8&starttime=2024-01-01&endtime=2024-02-01](https://earthquake.usgs.gov/fdsnws/event/1/query?format=geojson&minmagnitude=6.8&starttime=2024-01-01&endtime=2024-02-01)\n",
    "\n",
    "Take a look -- there is a lot more data!  \n",
    "\n",
    "Next, let's try it programmatically:"
   ]
  },
  {
   "cell_type": "code",
   "execution_count": null,
   "metadata": {},
   "outputs": [],
   "source": [
    "#\n",
    "# Here is the endpoint\n",
    "#\n",
    "url = \"https://earthquake.usgs.gov/fdsnws/event/1/query\"\n",
    "\n",
    "# Let's use variables for three of the parameters:\n",
    "min_mag = 6.8               # the minimum magnitude considered a quake (min_mag)\n",
    "start_time = \"2024-01-01\"   # this is the year-month-day format of the start\n",
    "finish_time = \"2024-02-01\"  # similar for the end\n",
    "\n",
    "# we assemble a dictionary of our parameters, let's name it param_dictionary\n",
    "# there are many more parameters available. The problems below ask you to explore them...\n",
    "param_dictionary = { \"format\":\"geojson\",         # this is simply hard-coded to obtain json\n",
    "                     \"starttime\":start_time,\n",
    "                     \"endtime\":finish_time,\n",
    "                     \"minmagnitude\":min_mag,\n",
    "                     }\n",
    "\n",
    "# Here, we use requests to make the request. The parameters will be added by this API call:\n",
    "result = requests.get(url, params=param_dictionary)\n",
    "print(f\"result is {result}\")                     # hopefully, this is 200\n",
    "print(f\"the full url used was\\n {result.url}\")   # this will include the parameters!"
   ]
  },
  {
   "cell_type": "code",
   "execution_count": null,
   "metadata": {},
   "outputs": [],
   "source": [
    "# If it worked, we should be able to see the json results:\n",
    "\n",
    "d = result.json()\n",
    "print(f\"JSON returned was {d = }\")"
   ]
  },
  {
   "cell_type": "code",
   "execution_count": null,
   "metadata": {},
   "outputs": [],
   "source": [
    "#\n",
    "# That's hard to read!\n",
    "# Let's pretty-print it with the json library\n",
    "#       Also, this version can be pasted into online formatters, e.g., https://jsonformatter.org/\n",
    "\n",
    "import json \n",
    "nice_string = json.dumps(d)   # this outputs a \"nicely formatted string\" using double quotes\n",
    "print(nice_string)\n",
    "\n",
    "# but, we can do better, the \"dump string\" function, json.dumps, can output the formatted version, too...\n"
   ]
  },
  {
   "cell_type": "code",
   "execution_count": null,
   "metadata": {},
   "outputs": [],
   "source": [
    "import json \n",
    "nicer_string = json.dumps(d, indent=4)   # We can specify the indentation. \n",
    "print(nicer_string)                      # It's another tree structure... !"
   ]
  },
  {
   "cell_type": "markdown",
   "metadata": {},
   "source": [
    "#### Launching into hw2's challenges:\n",
    "+ ISS challenges:\n",
    "  + ``ISS_now()`` which will find and return the ISS's lat/long (as floats)\n",
    "  + ``ISS_distance()`` which will return the distance of the ISS from a city of your choice (a constant city, not a variable) This will require finding and adapting the <i>haversine</i> distance for global distances (using lat/long) ...\n",
    "+ Earthquake challenges:\n",
    "  + ``Quake_loop()`` which will loop over a parameter of your choice, print a formatted list of quake-count data, and return that list\n",
    "  + ``Quake_compare(place1, place2)`` which will ask - and answer - a comparative question about \"quakiness\" for twp different places, using the quake data... \n",
    "+ Open-ended challenges ~ choose one of the open-ended suggestions or create a variant of your own design...\n",
    "  + More ISS! - include an API call for lat/long look up of a geographic location\n",
    "  + More Quake! - create a <i>nested</i> for loop of calls, and from its results, a <i>2d</i> table of earthquake data\n",
    "  + More APIs! - ask-and-answer your own question with the [Poke API](https://pokeapi.co/) or [one of the many, many more!](https://medium.com/codex/15-fun-and-interesting-apis-to-use-for-your-next-coding-project-in-2022-86a4ff3a2742) \n",
    "     + Your investigation should involve at least one for loop for aggregating or comparing results... "
   ]
  },
  {
   "cell_type": "code",
   "execution_count": null,
   "metadata": {},
   "outputs": [],
   "source": [
    "#\n",
    "# hw2: ISS tasks 1 and 2 ...\n",
    "# \n",
    "# Two functions:  ISS_now(), ISS_distance()\n",
    "\n",
    "#\n",
    "# Use the ISS examples above to write a function, named \n",
    "#     \n",
    "#      ISS_now()\n",
    "#\n",
    "# that uses requests to return the current latitude and longitude -- as floating-point values -- right now.\n",
    "# Be sure to test it! \n"
   ]
  },
  {
   "cell_type": "markdown",
   "metadata": {},
   "source": [
    "Feel free to create some new cells around this area to write and test ``ISS_now()`` ..."
   ]
  },
  {
   "cell_type": "code",
   "execution_count": null,
   "metadata": {},
   "outputs": [],
   "source": [
    "# \n",
    "# Once your ISS_now() function is working, write a new function\n",
    "#\n",
    "#       ISS_distance()\n",
    "#\n",
    "# which uses ISS_now to obtain the lat/long of the ISS and then\n",
    "# uses the haversine distance (look up a Python implementation or use one of ours... :)\n",
    "# to compute the ISS's distance from a city of your choice.\n",
    "#\n",
    "# The haversine distance computes the \"great circle\" distance from two points on the globe\n",
    "#     using latitude and longitude  \n",
    "#\n"
   ]
  },
  {
   "cell_type": "markdown",
   "metadata": {},
   "source": [
    "Feel free to create some new cells around this area to write and test ``ISS_distance()`` ..."
   ]
  },
  {
   "cell_type": "code",
   "execution_count": null,
   "metadata": {},
   "outputs": [],
   "source": [
    "#\n",
    "# Open-ended possibility:  \n",
    "#    (a) create a new function ISS_distance(place) that takes in a place name\n",
    "#    (b) find a service by which you can look up the lat + long using the place name\n",
    "#         (b*)  I'm not sure how to do this - it's exploratory! \n",
    "#    (c) then, continue with the previous computation to find the ISS distance! :) \n",
    "#\n",
    "\n",
    "# The final problem of this hw2 is to take on _ONE_ open-ended possibility. \n",
    "#     (This ISS-themed one is only the first possibility.)\n",
    "#     Others, below, involve earthquakes, or your own choice of API exploration..."
   ]
  },
  {
   "cell_type": "markdown",
   "metadata": {},
   "source": [
    "#### USGS Challenges\n",
    "\n",
    "Tasks 3 and 4 use the earthquake API"
   ]
  },
  {
   "cell_type": "code",
   "execution_count": null,
   "metadata": {},
   "outputs": [],
   "source": [
    "#\n",
    "# hw2: USGS Tasks 3 and 4 ...\n",
    "# \n",
    "# Two functions:  Quake_loop(), Quake_compare(place1, place2)\n",
    "\n",
    "#\n",
    "# Use the USGS (earthquake) examples above to write a function, named \n",
    "#     \n",
    "#      Quake_loop()\n",
    "#\n",
    "# that uses requests within a loop of your own design in order to\n",
    "#   + obtain at least 10 distinct, comparable data elements (counts are encouraged; other items ok)\n",
    "#   + as a parameter is varying, e.g., magnitude, time, radius, location, etc.\n",
    "#   + it should collect all of those data elements into a list\n",
    "#   + and render the list in a neatly formatted chart (f-strings welcome; not required)\n",
    "#\n",
    "#   + in addition, include a overall reflection on the results, as well as a comment on additional effort\n",
    "#     that could expand your results (you need not run it), and any concerns or caveats about the data...\n",
    "#   + feel free to copy-paste-edit the markdown \"reflection-template,\" above  "
   ]
  },
  {
   "cell_type": "markdown",
   "metadata": {},
   "source": [
    "Feel free to create some new cells around this area to write and test ``Quake_loop()`` ..."
   ]
  },
  {
   "cell_type": "code",
   "execution_count": null,
   "metadata": {},
   "outputs": [],
   "source": [
    "# \n",
    "# Once your Quake_loop() function is working, write a new function\n",
    "#\n",
    "#       Quake_compare(place1, place2)\n",
    "#\n",
    "# where place1 should be a 2-element tuple:  (latitude1, longitude1)\n",
    "# and  place2 should be a 2-element tuple:  (latitude2, longitude2)\n",
    "#\n",
    "# and then your function should compare which of the two places is \"quakier\" (not a real word)\n",
    "# for a given time span (you choose), and a given strength-of-quakes (you choose), and\n",
    "# for a specific radius around each of the two places (you choose)\n",
    "#\n",
    "# As is clear, there is lots of freedom to design a \"comparison of quakiness\" -- wonderful!\n",
    "# Feel free to start somewhere, and tune the results.\n",
    "#\n",
    "# Your function should print the results it finds (in this case, it's not important to return\n",
    "# and specific value -- though you're encouraged (not required) to create a helper function and \n",
    "# then call it twice for the two locations! (That helper function would need a return value!)\n",
    "#\n",
    "#\n"
   ]
  },
  {
   "cell_type": "markdown",
   "metadata": {},
   "source": [
    "Feel free to create some new cells around this area to write and test ``Quake_compare(place1, place2)`` ..."
   ]
  },
  {
   "cell_type": "markdown",
   "metadata": {},
   "source": [
    "#### Final API challenge:  an open-ended API task...\n",
    "\n",
    "As a final example of using APIs with Python's ``requests`` library, choose one of these open-ended suggestions or create a variant of your own design...\n",
    "+ More ISS! - include an API call for lat/long look up of a geographic location\n",
    "+ More Quake! - create a <i>nested</i> for loop of calls, and from its results, a <i>2d</i> table of earthquake data\n",
    "+ More APIs! - ask-and-answer your own question with the [Poke API](https://pokeapi.co/) or [one of the many, many more!](https://medium.com/codex/15-fun-and-interesting-apis-to-use-for-your-next-coding-project-in-2022-86a4ff3a2742) \n",
    "    + Perhaps there's an API that overlaps another class or project or interest of yours... \n",
    "    + In using your own API, your investigation should involve at least one for loop that is aggregating or comparing results...\n",
    "\n",
    "An important part of the power of API use is gathering a _specific slice_ of data from an otherwise too-large ocean of raw material. That _specific slice_ allows you to express a particular question, obtain its relevant data, and see if it's enough to offer an answer.\n",
    "\n",
    "In any case, it will lead to more questions!  Good luck API'ing!!"
   ]
  }
 ],
 "metadata": {
  "kernelspec": {
   "display_name": "Python 3.10.4 64-bit",
   "language": "python",
   "name": "python3"
  },
  "language_info": {
   "codemirror_mode": {
    "name": "ipython",
    "version": 3
   },
   "file_extension": ".py",
   "mimetype": "text/x-python",
   "name": "python",
   "nbconvert_exporter": "python",
   "pygments_lexer": "ipython3",
   "version": "3.12.1"
  },
  "orig_nbformat": 4,
  "vscode": {
   "interpreter": {
    "hash": "aee8b7b246df8f9039afb4144a1f6fd8d2ca17a180786b69acc140d282b71a49"
   }
  }
 },
 "nbformat": 4,
 "nbformat_minor": 2
}
